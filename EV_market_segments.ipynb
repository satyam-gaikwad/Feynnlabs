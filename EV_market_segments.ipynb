{
  "nbformat": 4,
  "nbformat_minor": 0,
  "metadata": {
    "colab": {
      "provenance": []
    },
    "kernelspec": {
      "name": "python3",
      "display_name": "Python 3"
    },
    "language_info": {
      "name": "python"
    }
  },
  "cells": [
    {
      "cell_type": "code",
      "source": [
        "import pandas as pd\n",
        "import numpy as np\n",
        "import seaborn as sns\n",
        "import matplotlib.pyplot as plt"
      ],
      "metadata": {
        "id": "5G2_hfq7dTuj"
      },
      "execution_count": 1,
      "outputs": []
    },
    {
      "cell_type": "markdown",
      "source": [
        "# New Section"
      ],
      "metadata": {
        "id": "SPzPl3cWvvic"
      }
    },
    {
      "cell_type": "code",
      "source": [
        "from sklearn.cluster import KMeans\n",
        "import warnings\n",
        "warnings.filterwarnings('ignore')\n",
        "import plotly.graph_objects as go\n",
        "from plotly.subplots import make_subplots"
      ],
      "metadata": {
        "id": "06Bu9xKMA8Pw"
      },
      "execution_count": 2,
      "outputs": []
    },
    {
      "cell_type": "code",
      "source": [
        "from google.colab import drive\n",
        "drive.mount('/content/drive')"
      ],
      "metadata": {
        "colab": {
          "base_uri": "https://localhost:8080/"
        },
        "id": "LKuYh2_ADjy8",
        "outputId": "657ffde9-2b73-49d9-8801-caa7698ea1fe"
      },
      "execution_count": 4,
      "outputs": [
        {
          "output_type": "stream",
          "name": "stdout",
          "text": [
            "Mounted at /content/drive\n"
          ]
        }
      ]
    },
    {
      "cell_type": "code",
      "source": [
        "bb= pd.read_csv('/content/drive/MyDrive/DS-ML/EV_market segmentation/Indian automoble buying behavour study 1.0.csv')"
      ],
      "metadata": {
        "id": "QQsEIGQZbmkC"
      },
      "execution_count": 5,
      "outputs": []
    },
    {
      "cell_type": "code",
      "source": [
        "bb.head()"
      ],
      "metadata": {
        "colab": {
          "base_uri": "https://localhost:8080/",
          "height": 206
        },
        "id": "yf048EvVbXL0",
        "outputId": "0db0534b-40d9-46ea-91df-8c1d49e6bb75"
      },
      "execution_count": null,
      "outputs": [
        {
          "output_type": "execute_result",
          "data": {
            "text/plain": [
              "   Age Profession Marrital Status      Education  No of Dependents  \\\n",
              "0   27   Salaried          Single  Post Graduate                 0   \n",
              "1   35   Salaried         Married  Post Graduate                 2   \n",
              "2   45   Business         Married       Graduate                 4   \n",
              "3   41   Business         Married  Post Graduate                 3   \n",
              "4   31   Salaried         Married  Post Graduate                 2   \n",
              "\n",
              "  Personal loan House Loan Wife Working   Salary  Wife Salary  Total Salary  \\\n",
              "0           Yes         No           No   800000            0        800000   \n",
              "1           Yes        Yes          Yes  1400000       600000       2000000   \n",
              "2           Yes        Yes           No  1800000            0       1800000   \n",
              "3            No         No          Yes  1600000       600000       2200000   \n",
              "4           Yes         No          Yes  1800000       800000       2600000   \n",
              "\n",
              "     Make    Price  \n",
              "0     i20   800000  \n",
              "1    Ciaz  1000000  \n",
              "2  Duster  1200000  \n",
              "3    City  1200000  \n",
              "4     SUV  1600000  "
            ],
            "text/html": [
              "\n",
              "  <div id=\"df-0637ce3c-ff9a-491b-9e21-63f15d290f21\">\n",
              "    <div class=\"colab-df-container\">\n",
              "      <div>\n",
              "<style scoped>\n",
              "    .dataframe tbody tr th:only-of-type {\n",
              "        vertical-align: middle;\n",
              "    }\n",
              "\n",
              "    .dataframe tbody tr th {\n",
              "        vertical-align: top;\n",
              "    }\n",
              "\n",
              "    .dataframe thead th {\n",
              "        text-align: right;\n",
              "    }\n",
              "</style>\n",
              "<table border=\"1\" class=\"dataframe\">\n",
              "  <thead>\n",
              "    <tr style=\"text-align: right;\">\n",
              "      <th></th>\n",
              "      <th>Age</th>\n",
              "      <th>Profession</th>\n",
              "      <th>Marrital Status</th>\n",
              "      <th>Education</th>\n",
              "      <th>No of Dependents</th>\n",
              "      <th>Personal loan</th>\n",
              "      <th>House Loan</th>\n",
              "      <th>Wife Working</th>\n",
              "      <th>Salary</th>\n",
              "      <th>Wife Salary</th>\n",
              "      <th>Total Salary</th>\n",
              "      <th>Make</th>\n",
              "      <th>Price</th>\n",
              "    </tr>\n",
              "  </thead>\n",
              "  <tbody>\n",
              "    <tr>\n",
              "      <th>0</th>\n",
              "      <td>27</td>\n",
              "      <td>Salaried</td>\n",
              "      <td>Single</td>\n",
              "      <td>Post Graduate</td>\n",
              "      <td>0</td>\n",
              "      <td>Yes</td>\n",
              "      <td>No</td>\n",
              "      <td>No</td>\n",
              "      <td>800000</td>\n",
              "      <td>0</td>\n",
              "      <td>800000</td>\n",
              "      <td>i20</td>\n",
              "      <td>800000</td>\n",
              "    </tr>\n",
              "    <tr>\n",
              "      <th>1</th>\n",
              "      <td>35</td>\n",
              "      <td>Salaried</td>\n",
              "      <td>Married</td>\n",
              "      <td>Post Graduate</td>\n",
              "      <td>2</td>\n",
              "      <td>Yes</td>\n",
              "      <td>Yes</td>\n",
              "      <td>Yes</td>\n",
              "      <td>1400000</td>\n",
              "      <td>600000</td>\n",
              "      <td>2000000</td>\n",
              "      <td>Ciaz</td>\n",
              "      <td>1000000</td>\n",
              "    </tr>\n",
              "    <tr>\n",
              "      <th>2</th>\n",
              "      <td>45</td>\n",
              "      <td>Business</td>\n",
              "      <td>Married</td>\n",
              "      <td>Graduate</td>\n",
              "      <td>4</td>\n",
              "      <td>Yes</td>\n",
              "      <td>Yes</td>\n",
              "      <td>No</td>\n",
              "      <td>1800000</td>\n",
              "      <td>0</td>\n",
              "      <td>1800000</td>\n",
              "      <td>Duster</td>\n",
              "      <td>1200000</td>\n",
              "    </tr>\n",
              "    <tr>\n",
              "      <th>3</th>\n",
              "      <td>41</td>\n",
              "      <td>Business</td>\n",
              "      <td>Married</td>\n",
              "      <td>Post Graduate</td>\n",
              "      <td>3</td>\n",
              "      <td>No</td>\n",
              "      <td>No</td>\n",
              "      <td>Yes</td>\n",
              "      <td>1600000</td>\n",
              "      <td>600000</td>\n",
              "      <td>2200000</td>\n",
              "      <td>City</td>\n",
              "      <td>1200000</td>\n",
              "    </tr>\n",
              "    <tr>\n",
              "      <th>4</th>\n",
              "      <td>31</td>\n",
              "      <td>Salaried</td>\n",
              "      <td>Married</td>\n",
              "      <td>Post Graduate</td>\n",
              "      <td>2</td>\n",
              "      <td>Yes</td>\n",
              "      <td>No</td>\n",
              "      <td>Yes</td>\n",
              "      <td>1800000</td>\n",
              "      <td>800000</td>\n",
              "      <td>2600000</td>\n",
              "      <td>SUV</td>\n",
              "      <td>1600000</td>\n",
              "    </tr>\n",
              "  </tbody>\n",
              "</table>\n",
              "</div>\n",
              "      <button class=\"colab-df-convert\" onclick=\"convertToInteractive('df-0637ce3c-ff9a-491b-9e21-63f15d290f21')\"\n",
              "              title=\"Convert this dataframe to an interactive table.\"\n",
              "              style=\"display:none;\">\n",
              "        \n",
              "  <svg xmlns=\"http://www.w3.org/2000/svg\" height=\"24px\"viewBox=\"0 0 24 24\"\n",
              "       width=\"24px\">\n",
              "    <path d=\"M0 0h24v24H0V0z\" fill=\"none\"/>\n",
              "    <path d=\"M18.56 5.44l.94 2.06.94-2.06 2.06-.94-2.06-.94-.94-2.06-.94 2.06-2.06.94zm-11 1L8.5 8.5l.94-2.06 2.06-.94-2.06-.94L8.5 2.5l-.94 2.06-2.06.94zm10 10l.94 2.06.94-2.06 2.06-.94-2.06-.94-.94-2.06-.94 2.06-2.06.94z\"/><path d=\"M17.41 7.96l-1.37-1.37c-.4-.4-.92-.59-1.43-.59-.52 0-1.04.2-1.43.59L10.3 9.45l-7.72 7.72c-.78.78-.78 2.05 0 2.83L4 21.41c.39.39.9.59 1.41.59.51 0 1.02-.2 1.41-.59l7.78-7.78 2.81-2.81c.8-.78.8-2.07 0-2.86zM5.41 20L4 18.59l7.72-7.72 1.47 1.35L5.41 20z\"/>\n",
              "  </svg>\n",
              "      </button>\n",
              "      \n",
              "  <style>\n",
              "    .colab-df-container {\n",
              "      display:flex;\n",
              "      flex-wrap:wrap;\n",
              "      gap: 12px;\n",
              "    }\n",
              "\n",
              "    .colab-df-convert {\n",
              "      background-color: #E8F0FE;\n",
              "      border: none;\n",
              "      border-radius: 50%;\n",
              "      cursor: pointer;\n",
              "      display: none;\n",
              "      fill: #1967D2;\n",
              "      height: 32px;\n",
              "      padding: 0 0 0 0;\n",
              "      width: 32px;\n",
              "    }\n",
              "\n",
              "    .colab-df-convert:hover {\n",
              "      background-color: #E2EBFA;\n",
              "      box-shadow: 0px 1px 2px rgba(60, 64, 67, 0.3), 0px 1px 3px 1px rgba(60, 64, 67, 0.15);\n",
              "      fill: #174EA6;\n",
              "    }\n",
              "\n",
              "    [theme=dark] .colab-df-convert {\n",
              "      background-color: #3B4455;\n",
              "      fill: #D2E3FC;\n",
              "    }\n",
              "\n",
              "    [theme=dark] .colab-df-convert:hover {\n",
              "      background-color: #434B5C;\n",
              "      box-shadow: 0px 1px 3px 1px rgba(0, 0, 0, 0.15);\n",
              "      filter: drop-shadow(0px 1px 2px rgba(0, 0, 0, 0.3));\n",
              "      fill: #FFFFFF;\n",
              "    }\n",
              "  </style>\n",
              "\n",
              "      <script>\n",
              "        const buttonEl =\n",
              "          document.querySelector('#df-0637ce3c-ff9a-491b-9e21-63f15d290f21 button.colab-df-convert');\n",
              "        buttonEl.style.display =\n",
              "          google.colab.kernel.accessAllowed ? 'block' : 'none';\n",
              "\n",
              "        async function convertToInteractive(key) {\n",
              "          const element = document.querySelector('#df-0637ce3c-ff9a-491b-9e21-63f15d290f21');\n",
              "          const dataTable =\n",
              "            await google.colab.kernel.invokeFunction('convertToInteractive',\n",
              "                                                     [key], {});\n",
              "          if (!dataTable) return;\n",
              "\n",
              "          const docLinkHtml = 'Like what you see? Visit the ' +\n",
              "            '<a target=\"_blank\" href=https://colab.research.google.com/notebooks/data_table.ipynb>data table notebook</a>'\n",
              "            + ' to learn more about interactive tables.';\n",
              "          element.innerHTML = '';\n",
              "          dataTable['output_type'] = 'display_data';\n",
              "          await google.colab.output.renderOutput(dataTable, element);\n",
              "          const docLink = document.createElement('div');\n",
              "          docLink.innerHTML = docLinkHtml;\n",
              "          element.appendChild(docLink);\n",
              "        }\n",
              "      </script>\n",
              "    </div>\n",
              "  </div>\n",
              "  "
            ]
          },
          "metadata": {},
          "execution_count": 5
        }
      ]
    },
    {
      "cell_type": "code",
      "source": [
        "bb.info()"
      ],
      "metadata": {
        "colab": {
          "base_uri": "https://localhost:8080/"
        },
        "id": "CCvmI-rNo4fG",
        "outputId": "815f60ed-af6c-48ef-cce6-41c714e19e59"
      },
      "execution_count": null,
      "outputs": [
        {
          "output_type": "stream",
          "name": "stdout",
          "text": [
            "<class 'pandas.core.frame.DataFrame'>\n",
            "RangeIndex: 99 entries, 0 to 98\n",
            "Data columns (total 13 columns):\n",
            " #   Column            Non-Null Count  Dtype \n",
            "---  ------            --------------  ----- \n",
            " 0   Age               99 non-null     int64 \n",
            " 1   Profession        99 non-null     object\n",
            " 2   Marrital Status   99 non-null     object\n",
            " 3   Education         99 non-null     object\n",
            " 4   No of Dependents  99 non-null     int64 \n",
            " 5   Personal loan     99 non-null     object\n",
            " 6   House Loan        99 non-null     object\n",
            " 7   Wife Working      99 non-null     object\n",
            " 8   Salary            99 non-null     int64 \n",
            " 9   Wife Salary       99 non-null     int64 \n",
            " 10  Total Salary      99 non-null     int64 \n",
            " 11  Make              99 non-null     object\n",
            " 12  Price             99 non-null     int64 \n",
            "dtypes: int64(6), object(7)\n",
            "memory usage: 10.2+ KB\n"
          ]
        }
      ]
    },
    {
      "cell_type": "code",
      "source": [
        "bb[bb['Make']=='SUV']"
      ],
      "metadata": {
        "colab": {
          "base_uri": "https://localhost:8080/",
          "height": 520
        },
        "id": "3ZFn3y64pRIk",
        "outputId": "c2fc2d75-4708-4426-9e2d-340fa9fb55a7"
      },
      "execution_count": null,
      "outputs": [
        {
          "output_type": "execute_result",
          "data": {
            "text/plain": [
              "    Age Profession Marrital Status      Education  No of Dependents  \\\n",
              "4    31   Salaried         Married  Post Graduate                 2   \n",
              "10   35   Salaried         Married  Post Graduate                 4   \n",
              "22   36   Business         Married       Graduate                 3   \n",
              "25   35   Salaried         Married       Graduate                 2   \n",
              "29   36   Salaried         Married  Post Graduate                 2   \n",
              "35   42   Salaried         Married  Post Graduate                 3   \n",
              "38   30   Business          Single  Post Graduate                 0   \n",
              "42   32   Salaried         Married       Graduate                 0   \n",
              "51   49   Salaried         Married  Post Graduate                 3   \n",
              "52   44   Salaried         Married  Post Graduate                 4   \n",
              "62   31   Business          Single       Graduate                 0   \n",
              "71   37   Salaried         Married  Post Graduate                 2   \n",
              "73   35   Salaried         Married  Post Graduate                 0   \n",
              "77   36   Business         Married       Graduate                 3   \n",
              "79   45   Salaried         Married  Post Graduate                 2   \n",
              "81   44   Business         Married       Graduate                 2   \n",
              "91   36   Salaried         Married  Post Graduate                 3   \n",
              "94   27   Business          Single       Graduate                 0   \n",
              "95   50   Salaried         Married  Post Graduate                 3   \n",
              "\n",
              "   Personal loan House Loan Wife Working   Salary  Wife Salary  Total Salary  \\\n",
              "4            Yes         No          Yes  1800000       800000       2600000   \n",
              "10            No         No          Yes  1300000       700000       2000000   \n",
              "22            No         No          Yes  1400000      1000000       2400000   \n",
              "25            No         No          Yes  1800000      1100000       2900000   \n",
              "29            No         No          Yes  1800000       900000       2700000   \n",
              "35            No         No          Yes  2400000      1300000       3700000   \n",
              "38            No         No           No  1400000            0       1400000   \n",
              "42            No         No          Yes  1600000       800000       2400000   \n",
              "51            No         No          Yes  2500000      1800000       4300000   \n",
              "52            No         No           No  2700000            0       2700000   \n",
              "62            No         No           No  2000000            0       2000000   \n",
              "71            No        Yes          Yes  1900000      1300000       3200000   \n",
              "73            No         No          Yes  1400000      1100000       2500000   \n",
              "77            No        Yes          Yes  1800000      1100000       2900000   \n",
              "79            No        Yes          Yes  2700000      1800000       4500000   \n",
              "81            No         No          Yes  3100000      2100000       5200000   \n",
              "91           Yes        Yes          Yes  3100000      1800000       4900000   \n",
              "94            No         No           No  2400000            0       2400000   \n",
              "95            No         No          Yes  3800000      1300000       5100000   \n",
              "\n",
              "   Make    Price  \n",
              "4   SUV  1600000  \n",
              "10  SUV  1600000  \n",
              "22  SUV  1600000  \n",
              "25  SUV  1600000  \n",
              "29  SUV  1600000  \n",
              "35  SUV  1600000  \n",
              "38  SUV  1600000  \n",
              "42  SUV  1600000  \n",
              "51  SUV  1600000  \n",
              "52  SUV  1600000  \n",
              "62  SUV  1500000  \n",
              "71  SUV  1600000  \n",
              "73  SUV  1600000  \n",
              "77  SUV  1600000  \n",
              "79  SUV  1600000  \n",
              "81  SUV  1600000  \n",
              "91  SUV  1600000  \n",
              "94  SUV  1600000  \n",
              "95  SUV  1600000  "
            ],
            "text/html": [
              "\n",
              "  <div id=\"df-752c11bc-5797-460d-ab16-a789bf307892\">\n",
              "    <div class=\"colab-df-container\">\n",
              "      <div>\n",
              "<style scoped>\n",
              "    .dataframe tbody tr th:only-of-type {\n",
              "        vertical-align: middle;\n",
              "    }\n",
              "\n",
              "    .dataframe tbody tr th {\n",
              "        vertical-align: top;\n",
              "    }\n",
              "\n",
              "    .dataframe thead th {\n",
              "        text-align: right;\n",
              "    }\n",
              "</style>\n",
              "<table border=\"1\" class=\"dataframe\">\n",
              "  <thead>\n",
              "    <tr style=\"text-align: right;\">\n",
              "      <th></th>\n",
              "      <th>Age</th>\n",
              "      <th>Profession</th>\n",
              "      <th>Marrital Status</th>\n",
              "      <th>Education</th>\n",
              "      <th>No of Dependents</th>\n",
              "      <th>Personal loan</th>\n",
              "      <th>House Loan</th>\n",
              "      <th>Wife Working</th>\n",
              "      <th>Salary</th>\n",
              "      <th>Wife Salary</th>\n",
              "      <th>Total Salary</th>\n",
              "      <th>Make</th>\n",
              "      <th>Price</th>\n",
              "    </tr>\n",
              "  </thead>\n",
              "  <tbody>\n",
              "    <tr>\n",
              "      <th>4</th>\n",
              "      <td>31</td>\n",
              "      <td>Salaried</td>\n",
              "      <td>Married</td>\n",
              "      <td>Post Graduate</td>\n",
              "      <td>2</td>\n",
              "      <td>Yes</td>\n",
              "      <td>No</td>\n",
              "      <td>Yes</td>\n",
              "      <td>1800000</td>\n",
              "      <td>800000</td>\n",
              "      <td>2600000</td>\n",
              "      <td>SUV</td>\n",
              "      <td>1600000</td>\n",
              "    </tr>\n",
              "    <tr>\n",
              "      <th>10</th>\n",
              "      <td>35</td>\n",
              "      <td>Salaried</td>\n",
              "      <td>Married</td>\n",
              "      <td>Post Graduate</td>\n",
              "      <td>4</td>\n",
              "      <td>No</td>\n",
              "      <td>No</td>\n",
              "      <td>Yes</td>\n",
              "      <td>1300000</td>\n",
              "      <td>700000</td>\n",
              "      <td>2000000</td>\n",
              "      <td>SUV</td>\n",
              "      <td>1600000</td>\n",
              "    </tr>\n",
              "    <tr>\n",
              "      <th>22</th>\n",
              "      <td>36</td>\n",
              "      <td>Business</td>\n",
              "      <td>Married</td>\n",
              "      <td>Graduate</td>\n",
              "      <td>3</td>\n",
              "      <td>No</td>\n",
              "      <td>No</td>\n",
              "      <td>Yes</td>\n",
              "      <td>1400000</td>\n",
              "      <td>1000000</td>\n",
              "      <td>2400000</td>\n",
              "      <td>SUV</td>\n",
              "      <td>1600000</td>\n",
              "    </tr>\n",
              "    <tr>\n",
              "      <th>25</th>\n",
              "      <td>35</td>\n",
              "      <td>Salaried</td>\n",
              "      <td>Married</td>\n",
              "      <td>Graduate</td>\n",
              "      <td>2</td>\n",
              "      <td>No</td>\n",
              "      <td>No</td>\n",
              "      <td>Yes</td>\n",
              "      <td>1800000</td>\n",
              "      <td>1100000</td>\n",
              "      <td>2900000</td>\n",
              "      <td>SUV</td>\n",
              "      <td>1600000</td>\n",
              "    </tr>\n",
              "    <tr>\n",
              "      <th>29</th>\n",
              "      <td>36</td>\n",
              "      <td>Salaried</td>\n",
              "      <td>Married</td>\n",
              "      <td>Post Graduate</td>\n",
              "      <td>2</td>\n",
              "      <td>No</td>\n",
              "      <td>No</td>\n",
              "      <td>Yes</td>\n",
              "      <td>1800000</td>\n",
              "      <td>900000</td>\n",
              "      <td>2700000</td>\n",
              "      <td>SUV</td>\n",
              "      <td>1600000</td>\n",
              "    </tr>\n",
              "    <tr>\n",
              "      <th>35</th>\n",
              "      <td>42</td>\n",
              "      <td>Salaried</td>\n",
              "      <td>Married</td>\n",
              "      <td>Post Graduate</td>\n",
              "      <td>3</td>\n",
              "      <td>No</td>\n",
              "      <td>No</td>\n",
              "      <td>Yes</td>\n",
              "      <td>2400000</td>\n",
              "      <td>1300000</td>\n",
              "      <td>3700000</td>\n",
              "      <td>SUV</td>\n",
              "      <td>1600000</td>\n",
              "    </tr>\n",
              "    <tr>\n",
              "      <th>38</th>\n",
              "      <td>30</td>\n",
              "      <td>Business</td>\n",
              "      <td>Single</td>\n",
              "      <td>Post Graduate</td>\n",
              "      <td>0</td>\n",
              "      <td>No</td>\n",
              "      <td>No</td>\n",
              "      <td>No</td>\n",
              "      <td>1400000</td>\n",
              "      <td>0</td>\n",
              "      <td>1400000</td>\n",
              "      <td>SUV</td>\n",
              "      <td>1600000</td>\n",
              "    </tr>\n",
              "    <tr>\n",
              "      <th>42</th>\n",
              "      <td>32</td>\n",
              "      <td>Salaried</td>\n",
              "      <td>Married</td>\n",
              "      <td>Graduate</td>\n",
              "      <td>0</td>\n",
              "      <td>No</td>\n",
              "      <td>No</td>\n",
              "      <td>Yes</td>\n",
              "      <td>1600000</td>\n",
              "      <td>800000</td>\n",
              "      <td>2400000</td>\n",
              "      <td>SUV</td>\n",
              "      <td>1600000</td>\n",
              "    </tr>\n",
              "    <tr>\n",
              "      <th>51</th>\n",
              "      <td>49</td>\n",
              "      <td>Salaried</td>\n",
              "      <td>Married</td>\n",
              "      <td>Post Graduate</td>\n",
              "      <td>3</td>\n",
              "      <td>No</td>\n",
              "      <td>No</td>\n",
              "      <td>Yes</td>\n",
              "      <td>2500000</td>\n",
              "      <td>1800000</td>\n",
              "      <td>4300000</td>\n",
              "      <td>SUV</td>\n",
              "      <td>1600000</td>\n",
              "    </tr>\n",
              "    <tr>\n",
              "      <th>52</th>\n",
              "      <td>44</td>\n",
              "      <td>Salaried</td>\n",
              "      <td>Married</td>\n",
              "      <td>Post Graduate</td>\n",
              "      <td>4</td>\n",
              "      <td>No</td>\n",
              "      <td>No</td>\n",
              "      <td>No</td>\n",
              "      <td>2700000</td>\n",
              "      <td>0</td>\n",
              "      <td>2700000</td>\n",
              "      <td>SUV</td>\n",
              "      <td>1600000</td>\n",
              "    </tr>\n",
              "    <tr>\n",
              "      <th>62</th>\n",
              "      <td>31</td>\n",
              "      <td>Business</td>\n",
              "      <td>Single</td>\n",
              "      <td>Graduate</td>\n",
              "      <td>0</td>\n",
              "      <td>No</td>\n",
              "      <td>No</td>\n",
              "      <td>No</td>\n",
              "      <td>2000000</td>\n",
              "      <td>0</td>\n",
              "      <td>2000000</td>\n",
              "      <td>SUV</td>\n",
              "      <td>1500000</td>\n",
              "    </tr>\n",
              "    <tr>\n",
              "      <th>71</th>\n",
              "      <td>37</td>\n",
              "      <td>Salaried</td>\n",
              "      <td>Married</td>\n",
              "      <td>Post Graduate</td>\n",
              "      <td>2</td>\n",
              "      <td>No</td>\n",
              "      <td>Yes</td>\n",
              "      <td>Yes</td>\n",
              "      <td>1900000</td>\n",
              "      <td>1300000</td>\n",
              "      <td>3200000</td>\n",
              "      <td>SUV</td>\n",
              "      <td>1600000</td>\n",
              "    </tr>\n",
              "    <tr>\n",
              "      <th>73</th>\n",
              "      <td>35</td>\n",
              "      <td>Salaried</td>\n",
              "      <td>Married</td>\n",
              "      <td>Post Graduate</td>\n",
              "      <td>0</td>\n",
              "      <td>No</td>\n",
              "      <td>No</td>\n",
              "      <td>Yes</td>\n",
              "      <td>1400000</td>\n",
              "      <td>1100000</td>\n",
              "      <td>2500000</td>\n",
              "      <td>SUV</td>\n",
              "      <td>1600000</td>\n",
              "    </tr>\n",
              "    <tr>\n",
              "      <th>77</th>\n",
              "      <td>36</td>\n",
              "      <td>Business</td>\n",
              "      <td>Married</td>\n",
              "      <td>Graduate</td>\n",
              "      <td>3</td>\n",
              "      <td>No</td>\n",
              "      <td>Yes</td>\n",
              "      <td>Yes</td>\n",
              "      <td>1800000</td>\n",
              "      <td>1100000</td>\n",
              "      <td>2900000</td>\n",
              "      <td>SUV</td>\n",
              "      <td>1600000</td>\n",
              "    </tr>\n",
              "    <tr>\n",
              "      <th>79</th>\n",
              "      <td>45</td>\n",
              "      <td>Salaried</td>\n",
              "      <td>Married</td>\n",
              "      <td>Post Graduate</td>\n",
              "      <td>2</td>\n",
              "      <td>No</td>\n",
              "      <td>Yes</td>\n",
              "      <td>Yes</td>\n",
              "      <td>2700000</td>\n",
              "      <td>1800000</td>\n",
              "      <td>4500000</td>\n",
              "      <td>SUV</td>\n",
              "      <td>1600000</td>\n",
              "    </tr>\n",
              "    <tr>\n",
              "      <th>81</th>\n",
              "      <td>44</td>\n",
              "      <td>Business</td>\n",
              "      <td>Married</td>\n",
              "      <td>Graduate</td>\n",
              "      <td>2</td>\n",
              "      <td>No</td>\n",
              "      <td>No</td>\n",
              "      <td>Yes</td>\n",
              "      <td>3100000</td>\n",
              "      <td>2100000</td>\n",
              "      <td>5200000</td>\n",
              "      <td>SUV</td>\n",
              "      <td>1600000</td>\n",
              "    </tr>\n",
              "    <tr>\n",
              "      <th>91</th>\n",
              "      <td>36</td>\n",
              "      <td>Salaried</td>\n",
              "      <td>Married</td>\n",
              "      <td>Post Graduate</td>\n",
              "      <td>3</td>\n",
              "      <td>Yes</td>\n",
              "      <td>Yes</td>\n",
              "      <td>Yes</td>\n",
              "      <td>3100000</td>\n",
              "      <td>1800000</td>\n",
              "      <td>4900000</td>\n",
              "      <td>SUV</td>\n",
              "      <td>1600000</td>\n",
              "    </tr>\n",
              "    <tr>\n",
              "      <th>94</th>\n",
              "      <td>27</td>\n",
              "      <td>Business</td>\n",
              "      <td>Single</td>\n",
              "      <td>Graduate</td>\n",
              "      <td>0</td>\n",
              "      <td>No</td>\n",
              "      <td>No</td>\n",
              "      <td>No</td>\n",
              "      <td>2400000</td>\n",
              "      <td>0</td>\n",
              "      <td>2400000</td>\n",
              "      <td>SUV</td>\n",
              "      <td>1600000</td>\n",
              "    </tr>\n",
              "    <tr>\n",
              "      <th>95</th>\n",
              "      <td>50</td>\n",
              "      <td>Salaried</td>\n",
              "      <td>Married</td>\n",
              "      <td>Post Graduate</td>\n",
              "      <td>3</td>\n",
              "      <td>No</td>\n",
              "      <td>No</td>\n",
              "      <td>Yes</td>\n",
              "      <td>3800000</td>\n",
              "      <td>1300000</td>\n",
              "      <td>5100000</td>\n",
              "      <td>SUV</td>\n",
              "      <td>1600000</td>\n",
              "    </tr>\n",
              "  </tbody>\n",
              "</table>\n",
              "</div>\n",
              "      <button class=\"colab-df-convert\" onclick=\"convertToInteractive('df-752c11bc-5797-460d-ab16-a789bf307892')\"\n",
              "              title=\"Convert this dataframe to an interactive table.\"\n",
              "              style=\"display:none;\">\n",
              "        \n",
              "  <svg xmlns=\"http://www.w3.org/2000/svg\" height=\"24px\"viewBox=\"0 0 24 24\"\n",
              "       width=\"24px\">\n",
              "    <path d=\"M0 0h24v24H0V0z\" fill=\"none\"/>\n",
              "    <path d=\"M18.56 5.44l.94 2.06.94-2.06 2.06-.94-2.06-.94-.94-2.06-.94 2.06-2.06.94zm-11 1L8.5 8.5l.94-2.06 2.06-.94-2.06-.94L8.5 2.5l-.94 2.06-2.06.94zm10 10l.94 2.06.94-2.06 2.06-.94-2.06-.94-.94-2.06-.94 2.06-2.06.94z\"/><path d=\"M17.41 7.96l-1.37-1.37c-.4-.4-.92-.59-1.43-.59-.52 0-1.04.2-1.43.59L10.3 9.45l-7.72 7.72c-.78.78-.78 2.05 0 2.83L4 21.41c.39.39.9.59 1.41.59.51 0 1.02-.2 1.41-.59l7.78-7.78 2.81-2.81c.8-.78.8-2.07 0-2.86zM5.41 20L4 18.59l7.72-7.72 1.47 1.35L5.41 20z\"/>\n",
              "  </svg>\n",
              "      </button>\n",
              "      \n",
              "  <style>\n",
              "    .colab-df-container {\n",
              "      display:flex;\n",
              "      flex-wrap:wrap;\n",
              "      gap: 12px;\n",
              "    }\n",
              "\n",
              "    .colab-df-convert {\n",
              "      background-color: #E8F0FE;\n",
              "      border: none;\n",
              "      border-radius: 50%;\n",
              "      cursor: pointer;\n",
              "      display: none;\n",
              "      fill: #1967D2;\n",
              "      height: 32px;\n",
              "      padding: 0 0 0 0;\n",
              "      width: 32px;\n",
              "    }\n",
              "\n",
              "    .colab-df-convert:hover {\n",
              "      background-color: #E2EBFA;\n",
              "      box-shadow: 0px 1px 2px rgba(60, 64, 67, 0.3), 0px 1px 3px 1px rgba(60, 64, 67, 0.15);\n",
              "      fill: #174EA6;\n",
              "    }\n",
              "\n",
              "    [theme=dark] .colab-df-convert {\n",
              "      background-color: #3B4455;\n",
              "      fill: #D2E3FC;\n",
              "    }\n",
              "\n",
              "    [theme=dark] .colab-df-convert:hover {\n",
              "      background-color: #434B5C;\n",
              "      box-shadow: 0px 1px 3px 1px rgba(0, 0, 0, 0.15);\n",
              "      filter: drop-shadow(0px 1px 2px rgba(0, 0, 0, 0.3));\n",
              "      fill: #FFFFFF;\n",
              "    }\n",
              "  </style>\n",
              "\n",
              "      <script>\n",
              "        const buttonEl =\n",
              "          document.querySelector('#df-752c11bc-5797-460d-ab16-a789bf307892 button.colab-df-convert');\n",
              "        buttonEl.style.display =\n",
              "          google.colab.kernel.accessAllowed ? 'block' : 'none';\n",
              "\n",
              "        async function convertToInteractive(key) {\n",
              "          const element = document.querySelector('#df-752c11bc-5797-460d-ab16-a789bf307892');\n",
              "          const dataTable =\n",
              "            await google.colab.kernel.invokeFunction('convertToInteractive',\n",
              "                                                     [key], {});\n",
              "          if (!dataTable) return;\n",
              "\n",
              "          const docLinkHtml = 'Like what you see? Visit the ' +\n",
              "            '<a target=\"_blank\" href=https://colab.research.google.com/notebooks/data_table.ipynb>data table notebook</a>'\n",
              "            + ' to learn more about interactive tables.';\n",
              "          element.innerHTML = '';\n",
              "          dataTable['output_type'] = 'display_data';\n",
              "          await google.colab.output.renderOutput(dataTable, element);\n",
              "          const docLink = document.createElement('div');\n",
              "          docLink.innerHTML = docLinkHtml;\n",
              "          element.appendChild(docLink);\n",
              "        }\n",
              "      </script>\n",
              "    </div>\n",
              "  </div>\n",
              "  "
            ]
          },
          "metadata": {},
          "execution_count": 53
        }
      ]
    },
    {
      "cell_type": "code",
      "source": [
        "plt.subplots(figsize=(15,10))\n",
        "sns.countplot(data=bb,x='Age')"
      ],
      "metadata": {
        "id": "N2kG8rtbqA4p",
        "colab": {
          "base_uri": "https://localhost:8080/",
          "height": 623
        },
        "outputId": "1a92c8d2-7160-43e8-9624-3ee315aa24ac"
      },
      "execution_count": null,
      "outputs": [
        {
          "output_type": "execute_result",
          "data": {
            "text/plain": [
              "<AxesSubplot:xlabel='Age', ylabel='count'>"
            ]
          },
          "metadata": {},
          "execution_count": 9
        },
        {
          "output_type": "display_data",
          "data": {
            "text/plain": [
              "<Figure size 1080x720 with 1 Axes>"
            ],
            "image/png": "[encoded data removed]"
          },
          "metadata": {
            "needs_background": "light"
          }
        }
      ]
    },
    {
      "cell_type": "code",
      "source": [
        "plt.subplots(figsize=(12,6))\n",
        "sns.histplot(data=bb,x='Total Salary')"
      ],
      "metadata": {
        "colab": {
          "base_uri": "https://localhost:8080/",
          "height": 185
        },
        "id": "T5pW4rbgAFfT",
        "outputId": "5f0a04e1-1c28-456d-bb54-9daedf1f8f46"
      },
      "execution_count": null,
      "outputs": [
        {
          "output_type": "error",
          "ename": "NameError",
          "evalue": "ignored",
          "traceback": [
            "\u001b[0;31m---------------------------------------------------------------------------\u001b[0m",
            "\u001b[0;31mNameError\u001b[0m                                 Traceback (most recent call last)",
            "\u001b[0;32m<ipython-input-1-b2ca9bcaba32>\u001b[0m in \u001b[0;36m<module>\u001b[0;34m\u001b[0m\n\u001b[0;32m----> 1\u001b[0;31m \u001b[0mplt\u001b[0m\u001b[0;34m.\u001b[0m\u001b[0msubplots\u001b[0m\u001b[0;34m(\u001b[0m\u001b[0mfigsize\u001b[0m\u001b[0;34m=\u001b[0m\u001b[0;34m(\u001b[0m\u001b[0;36m12\u001b[0m\u001b[0;34m,\u001b[0m\u001b[0;36m6\u001b[0m\u001b[0;34m)\u001b[0m\u001b[0;34m)\u001b[0m\u001b[0;34m\u001b[0m\u001b[0;34m\u001b[0m\u001b[0m\n\u001b[0m\u001b[1;32m      2\u001b[0m \u001b[0msns\u001b[0m\u001b[0;34m.\u001b[0m\u001b[0mhistplot\u001b[0m\u001b[0;34m(\u001b[0m\u001b[0mdata\u001b[0m\u001b[0;34m=\u001b[0m\u001b[0mbb\u001b[0m\u001b[0;34m,\u001b[0m\u001b[0mx\u001b[0m\u001b[0;34m=\u001b[0m\u001b[0;34m'Total Salary'\u001b[0m\u001b[0;34m)\u001b[0m\u001b[0;34m\u001b[0m\u001b[0;34m\u001b[0m\u001b[0m\n",
            "\u001b[0;31mNameError\u001b[0m: name 'plt' is not defined"
          ]
        }
      ]
    },
    {
      "cell_type": "code",
      "source": [
        "fig,(ax1,ax2)=plt.subplots(figsize=(18,10),ncols=2)\n",
        "sns.countplot(data=bb,x='Personal loan',ax=ax1)\n",
        "sns.countplot(data=bb,x='House Loan',ax=ax2)"
      ],
      "metadata": {
        "colab": {
          "base_uri": "https://localhost:8080/",
          "height": 624
        },
        "id": "v8DNiw0i_GGW",
        "outputId": "73f0f86c-643f-41fe-bb00-45cc291c624c"
      },
      "execution_count": null,
      "outputs": [
        {
          "output_type": "execute_result",
          "data": {
            "text/plain": [
              "<matplotlib.axes._subplots.AxesSubplot at 0x7f1395c6b370>"
            ]
          },
          "metadata": {},
          "execution_count": 31
        },
        {
          "output_type": "display_data",
          "data": {
            "text/plain": [
              "<Figure size 1296x720 with 2 Axes>"
            ],
            "image/png": "[encoded data removed]"
          },
          "metadata": {
            "needs_background": "light"
          }
        }
      ]
    },
    {
      "cell_type": "code",
      "source": [
        "plt.subplots(figsize=(12,10))\n",
        "bb.Make.value_counts().plot.pie()"
      ],
      "metadata": {
        "colab": {
          "base_uri": "https://localhost:8080/",
          "height": 592
        },
        "id": "ozC0YTDXGBUF",
        "outputId": "939be78c-1c0a-4ab0-a02a-9830c6718699"
      },
      "execution_count": null,
      "outputs": [
        {
          "output_type": "execute_result",
          "data": {
            "text/plain": [
              "<matplotlib.axes._subplots.AxesSubplot at 0x7f1396236df0>"
            ]
          },
          "metadata": {},
          "execution_count": 42
        },
        {
          "output_type": "display_data",
          "data": {
            "text/plain": [
              "<Figure size 864x720 with 1 Axes>"
            ],
            "image/png": "[encoded data removed]"
          },
          "metadata": {}
        }
      ]
    },
    {
      "cell_type": "code",
      "source": [
        "sns.histplot(bb['Price'])"
      ],
      "metadata": {
        "colab": {
          "base_uri": "https://localhost:8080/",
          "height": 296
        },
        "id": "809EG966y3bJ",
        "outputId": "edd502ff-d55c-4d46-c3d4-8486a1c76007"
      },
      "execution_count": null,
      "outputs": [
        {
          "output_type": "execute_result",
          "data": {
            "text/plain": [
              "<AxesSubplot:xlabel='Price', ylabel='Count'>"
            ]
          },
          "metadata": {},
          "execution_count": 10
        },
        {
          "output_type": "display_data",
          "data": {
            "text/plain": [
              "<Figure size 432x288 with 1 Axes>"
            ],
            "image/png": "[encoded data removed]"
          },
          "metadata": {
            "needs_background": "light"
          }
        }
      ]
    },
    {
      "cell_type": "code",
      "source": [
        "bb.columns\n",
        "cols=['Age','No of Dependents','Salary','Total Salary','Price']\n",
        "bb2 = bb[cols]"
      ],
      "metadata": {
        "id": "-grBAz1czpTJ"
      },
      "execution_count": 18,
      "outputs": []
    },
    {
      "cell_type": "code",
      "source": [
        "bb2.head()"
      ],
      "metadata": {
        "colab": {
          "base_uri": "https://localhost:8080/",
          "height": 206
        },
        "id": "1E9EU4xI0C_t",
        "outputId": "852e1680-8c9f-4bd9-bee2-eedf014a15aa"
      },
      "execution_count": null,
      "outputs": [
        {
          "output_type": "execute_result",
          "data": {
            "text/plain": [
              "   Age  No of Dependents   Salary  Total Salary    Price\n",
              "0   27                 0   800000        800000   800000\n",
              "1   35                 2  1400000       2000000  1000000\n",
              "2   45                 4  1800000       1800000  1200000\n",
              "3   41                 3  1600000       2200000  1200000\n",
              "4   31                 2  1800000       2600000  1600000"
            ],
            "text/html": [
              "\n",
              "  <div id=\"df-674f29fc-2b97-4139-8548-93622d44bb64\">\n",
              "    <div class=\"colab-df-container\">\n",
              "      <div>\n",
              "<style scoped>\n",
              "    .dataframe tbody tr th:only-of-type {\n",
              "        vertical-align: middle;\n",
              "    }\n",
              "\n",
              "    .dataframe tbody tr th {\n",
              "        vertical-align: top;\n",
              "    }\n",
              "\n",
              "    .dataframe thead th {\n",
              "        text-align: right;\n",
              "    }\n",
              "</style>\n",
              "<table border=\"1\" class=\"dataframe\">\n",
              "  <thead>\n",
              "    <tr style=\"text-align: right;\">\n",
              "      <th></th>\n",
              "      <th>Age</th>\n",
              "      <th>No of Dependents</th>\n",
              "      <th>Salary</th>\n",
              "      <th>Total Salary</th>\n",
              "      <th>Price</th>\n",
              "    </tr>\n",
              "  </thead>\n",
              "  <tbody>\n",
              "    <tr>\n",
              "      <th>0</th>\n",
              "      <td>27</td>\n",
              "      <td>0</td>\n",
              "      <td>800000</td>\n",
              "      <td>800000</td>\n",
              "      <td>800000</td>\n",
              "    </tr>\n",
              "    <tr>\n",
              "      <th>1</th>\n",
              "      <td>35</td>\n",
              "      <td>2</td>\n",
              "      <td>1400000</td>\n",
              "      <td>2000000</td>\n",
              "      <td>1000000</td>\n",
              "    </tr>\n",
              "    <tr>\n",
              "      <th>2</th>\n",
              "      <td>45</td>\n",
              "      <td>4</td>\n",
              "      <td>1800000</td>\n",
              "      <td>1800000</td>\n",
              "      <td>1200000</td>\n",
              "    </tr>\n",
              "    <tr>\n",
              "      <th>3</th>\n",
              "      <td>41</td>\n",
              "      <td>3</td>\n",
              "      <td>1600000</td>\n",
              "      <td>2200000</td>\n",
              "      <td>1200000</td>\n",
              "    </tr>\n",
              "    <tr>\n",
              "      <th>4</th>\n",
              "      <td>31</td>\n",
              "      <td>2</td>\n",
              "      <td>1800000</td>\n",
              "      <td>2600000</td>\n",
              "      <td>1600000</td>\n",
              "    </tr>\n",
              "  </tbody>\n",
              "</table>\n",
              "</div>\n",
              "      <button class=\"colab-df-convert\" onclick=\"convertToInteractive('df-674f29fc-2b97-4139-8548-93622d44bb64')\"\n",
              "              title=\"Convert this dataframe to an interactive table.\"\n",
              "              style=\"display:none;\">\n",
              "        \n",
              "  <svg xmlns=\"http://www.w3.org/2000/svg\" height=\"24px\"viewBox=\"0 0 24 24\"\n",
              "       width=\"24px\">\n",
              "    <path d=\"M0 0h24v24H0V0z\" fill=\"none\"/>\n",
              "    <path d=\"M18.56 5.44l.94 2.06.94-2.06 2.06-.94-2.06-.94-.94-2.06-.94 2.06-2.06.94zm-11 1L8.5 8.5l.94-2.06 2.06-.94-2.06-.94L8.5 2.5l-.94 2.06-2.06.94zm10 10l.94 2.06.94-2.06 2.06-.94-2.06-.94-.94-2.06-.94 2.06-2.06.94z\"/><path d=\"M17.41 7.96l-1.37-1.37c-.4-.4-.92-.59-1.43-.59-.52 0-1.04.2-1.43.59L10.3 9.45l-7.72 7.72c-.78.78-.78 2.05 0 2.83L4 21.41c.39.39.9.59 1.41.59.51 0 1.02-.2 1.41-.59l7.78-7.78 2.81-2.81c.8-.78.8-2.07 0-2.86zM5.41 20L4 18.59l7.72-7.72 1.47 1.35L5.41 20z\"/>\n",
              "  </svg>\n",
              "      </button>\n",
              "      \n",
              "  <style>\n",
              "    .colab-df-container {\n",
              "      display:flex;\n",
              "      flex-wrap:wrap;\n",
              "      gap: 12px;\n",
              "    }\n",
              "\n",
              "    .colab-df-convert {\n",
              "      background-color: #E8F0FE;\n",
              "      border: none;\n",
              "      border-radius: 50%;\n",
              "      cursor: pointer;\n",
              "      display: none;\n",
              "      fill: #1967D2;\n",
              "      height: 32px;\n",
              "      padding: 0 0 0 0;\n",
              "      width: 32px;\n",
              "    }\n",
              "\n",
              "    .colab-df-convert:hover {\n",
              "      background-color: #E2EBFA;\n",
              "      box-shadow: 0px 1px 2px rgba(60, 64, 67, 0.3), 0px 1px 3px 1px rgba(60, 64, 67, 0.15);\n",
              "      fill: #174EA6;\n",
              "    }\n",
              "\n",
              "    [theme=dark] .colab-df-convert {\n",
              "      background-color: #3B4455;\n",
              "      fill: #D2E3FC;\n",
              "    }\n",
              "\n",
              "    [theme=dark] .colab-df-convert:hover {\n",
              "      background-color: #434B5C;\n",
              "      box-shadow: 0px 1px 3px 1px rgba(0, 0, 0, 0.15);\n",
              "      filter: drop-shadow(0px 1px 2px rgba(0, 0, 0, 0.3));\n",
              "      fill: #FFFFFF;\n",
              "    }\n",
              "  </style>\n",
              "\n",
              "      <script>\n",
              "        const buttonEl =\n",
              "          document.querySelector('#df-674f29fc-2b97-4139-8548-93622d44bb64 button.colab-df-convert');\n",
              "        buttonEl.style.display =\n",
              "          google.colab.kernel.accessAllowed ? 'block' : 'none';\n",
              "\n",
              "        async function convertToInteractive(key) {\n",
              "          const element = document.querySelector('#df-674f29fc-2b97-4139-8548-93622d44bb64');\n",
              "          const dataTable =\n",
              "            await google.colab.kernel.invokeFunction('convertToInteractive',\n",
              "                                                     [key], {});\n",
              "          if (!dataTable) return;\n",
              "\n",
              "          const docLinkHtml = 'Like what you see? Visit the ' +\n",
              "            '<a target=\"_blank\" href=https://colab.research.google.com/notebooks/data_table.ipynb>data table notebook</a>'\n",
              "            + ' to learn more about interactive tables.';\n",
              "          element.innerHTML = '';\n",
              "          dataTable['output_type'] = 'display_data';\n",
              "          await google.colab.output.renderOutput(dataTable, element);\n",
              "          const docLink = document.createElement('div');\n",
              "          docLink.innerHTML = docLinkHtml;\n",
              "          element.appendChild(docLink);\n",
              "        }\n",
              "      </script>\n",
              "    </div>\n",
              "  </div>\n",
              "  "
            ]
          },
          "metadata": {},
          "execution_count": 9
        }
      ]
    },
    {
      "cell_type": "code",
      "source": [
        "plt.subplots(figsize=(20,12))\n",
        "sns.heatmap(data=bb2.corr(),annot=True)"
      ],
      "metadata": {
        "colab": {
          "base_uri": "https://localhost:8080/",
          "height": 721
        },
        "id": "MFuTjDI1JFOJ",
        "outputId": "ff3e8577-a855-44cf-c545-f3dec0421ad5"
      },
      "execution_count": 19,
      "outputs": [
        {
          "output_type": "execute_result",
          "data": {
            "text/plain": [
              "<AxesSubplot:>"
            ]
          },
          "metadata": {},
          "execution_count": 19
        },
        {
          "output_type": "display_data",
          "data": {
            "text/plain": [
              "<Figure size 1440x864 with 2 Axes>"
            ],
            "image/png": "[encoded data removed]"
          },
          "metadata": {
            "needs_background": "light"
          }
        }
      ]
    },
    {
      "cell_type": "code",
      "source": [
        "#find the optimum number of clusters\n",
        "\n",
        "def num_of_k(k, data):\n",
        "    cluster_values = list(range(1,k))\n",
        "    inertia_values = []\n",
        "    for c in cluster_values:\n",
        "        model = KMeans(\n",
        "            n_clusters = c,\n",
        "            init = 'k-means++',\n",
        "            max_iter = 500,\n",
        "            random_state = 42)\n",
        "        model.fit(data)\n",
        "        inertia_values.append(model.inertia_)\n",
        "        \n",
        "    return inertia_values"
      ],
      "metadata": {
        "id": "eHS1kppi_lBr"
      },
      "execution_count": null,
      "outputs": []
    },
    {
      "cell_type": "code",
      "source": [
        "results = num_of_k(10,bb2)"
      ],
      "metadata": {
        "id": "bllMBHKCAUgF"
      },
      "execution_count": null,
      "outputs": []
    },
    {
      "cell_type": "code",
      "source": [
        "plt.grid()\n",
        "plt.plot(results, marker='o')"
      ],
      "metadata": {
        "colab": {
          "base_uri": "https://localhost:8080/",
          "height": 293
        },
        "id": "epmik8EmBGZc",
        "outputId": "eeef3ddc-cda3-4524-8853-441f87441109"
      },
      "execution_count": null,
      "outputs": [
        {
          "output_type": "execute_result",
          "data": {
            "text/plain": [
              "[<matplotlib.lines.Line2D at 0x7fb727f15af0>]"
            ]
          },
          "metadata": {},
          "execution_count": 9
        },
        {
          "output_type": "display_data",
          "data": {
            "text/plain": [
              "<Figure size 432x288 with 1 Axes>"
            ],
            "image/png": "[encoded data removed]"
          },
          "metadata": {
            "needs_background": "light"
          }
        }
      ]
    },
    {
      "cell_type": "code",
      "source": [
        "# create clustering model with optimal k=3\n",
        "updated_kmeans_model = KMeans(n_clusters = 3, \n",
        "                              init='k-means++', \n",
        "                              max_iter=500, )\n",
        "updated_kmeans_model.fit_predict(bb2)"
      ],
      "metadata": {
        "colab": {
          "base_uri": "https://localhost:8080/"
        },
        "id": "5BYjkPisBvvh",
        "outputId": "fe83fee5-bb4a-4c32-d17e-eda01ff83e75"
      },
      "execution_count": null,
      "outputs": [
        {
          "output_type": "execute_result",
          "data": {
            "text/plain": [
              "array([2, 0, 0, 0, 0, 2, 2, 2, 0, 2, 0, 2, 2, 2, 2, 1, 2, 2, 2, 2, 0, 2,\n",
              "       0, 2, 0, 0, 2, 2, 0, 0, 2, 0, 0, 0, 0, 1, 2, 0, 2, 0, 2, 2, 0, 0,\n",
              "       2, 1, 2, 0, 2, 0, 0, 1, 0, 1, 1, 1, 0, 2, 2, 2, 2, 2, 0, 0, 0, 2,\n",
              "       1, 0, 1, 0, 0, 0, 2, 0, 0, 1, 0, 0, 1, 1, 0, 1, 0, 0, 0, 0, 2, 0,\n",
              "       1, 0, 2, 1, 0, 2, 0, 1, 0, 1, 0], dtype=int32)"
            ]
          },
          "metadata": {},
          "execution_count": 10
        }
      ]
    },
    {
      "cell_type": "code",
      "source": [
        "bb2['cluster'] = updated_kmeans_model.labels_\n",
        "bb['cluster'] = updated_kmeans_model.labels_"
      ],
      "metadata": {
        "id": "5OTFeBzVD7ei"
      },
      "execution_count": null,
      "outputs": []
    },
    {
      "cell_type": "code",
      "source": [
        "import plotly.express as px\n",
        "# visualize customer segments with a 3D plot\n",
        "fig = px.scatter_3d(bb2,\n",
        "                    x=\"Age\",\n",
        "                    y=\"No of Dependents\",\n",
        "                    z=\"Total Salary\",\n",
        "                    color='cluster',\n",
        "                    hover_data=[\"Age\",\n",
        "                                \"No of Dependents\",\n",
        "                                \"Total Salary\"],\n",
        "                    category_orders = {\"cluster\": \n",
        "                                       [\"0\", \"1\", \"2\"]}\n",
        "                    )\n",
        "\n",
        "fig.update_layout(margin=dict(l=0, r=0, b=0, t=0))\n",
        "fig.show()\n"
      ],
      "metadata": {
        "colab": {
          "base_uri": "https://localhost:8080/",
          "height": 542
        },
        "id": "pyT71eYrEJrW",
        "outputId": "60e641f2-c1f5-4b6b-f50d-0c8da5fdac18"
      },
      "execution_count": null,
      "outputs": [
        {
          "output_type": "display_data",
          "data": {
            "text/html": [
              "<html>\n",
              "<head><meta charset=\"utf-8\" /></head>\n",
              "<body>\n",
              "    <div>            <script src=\"https://cdnjs.cloudflare.com/ajax/libs/mathjax/2.7.5/MathJax.js?config=TeX-AMS-MML_SVG\"></script><script type=\"text/javascript\">if (window.MathJax) {MathJax.Hub.Config({SVG: {font: \"STIX-Web\"}});}</script>                <script type=\"text/javascript\">window.PlotlyConfig = {MathJaxConfig: 'local'};</script>\n",
              "        <script src=\"https://cdn.plot.ly/plotly-2.8.3.min.js\"></script>                <div id=\"ee9f4888-c60f-41cb-a49e-b2d9f2475383\" class=\"plotly-graph-div\" style=\"height:525px; width:100%;\"></div>            <script type=\"text/javascript\">                                    window.PLOTLYENV=window.PLOTLYENV || {};                                    if (document.getElementById(\"ee9f4888-c60f-41cb-a49e-b2d9f2475383\")) {                    Plotly.newPlot(                        \"ee9f4888-c60f-41cb-a49e-b2d9f2475383\",                        [{\"hovertemplate\":\"Age=%{x}<br>No of Dependents=%{y}<br>Total Salary=%{z}<br>cluster=%{marker.color}<extra></extra>\",\"legendgroup\":\"\",\"marker\":{\"color\":[2,0,0,0,0,2,2,2,0,2,0,2,2,2,2,1,2,2,2,2,0,2,0,2,0,0,2,2,0,0,2,0,0,0,0,1,2,0,2,0,2,2,0,0,2,1,2,0,2,0,0,1,0,1,1,1,0,2,2,2,2,2,0,0,0,2,1,0,1,0,0,0,2,0,0,1,0,0,1,1,0,1,0,0,0,0,2,0,1,0,2,1,0,2,0,1,0,1,0],\"coloraxis\":\"coloraxis\",\"symbol\":\"circle\"},\"mode\":\"markers\",\"name\":\"\",\"scene\":\"scene\",\"showlegend\":false,\"x\":[27,35,45,41,31,28,31,33,34,34,35,35,29,30,31,49,26,27,29,30,37,35,36,35,35,35,35,36,36,36,41,41,41,43,42,42,29,30,30,31,31,32,32,34,34,34,36,36,36,36,49,49,44,44,41,41,41,27,27,28,28,30,31,31,31,39,39,39,39,37,37,37,37,35,36,36,36,36,44,45,46,44,43,42,42,42,29,33,34,34,35,36,37,27,27,50,51,51,51],\"y\":[0,2,4,3,2,3,4,4,4,3,4,4,0,2,3,4,0,0,2,0,3,3,3,4,3,2,4,3,3,2,3,3,4,3,4,3,0,0,0,0,3,0,0,3,2,3,4,2,2,3,4,3,4,3,2,3,3,0,0,0,0,0,0,3,2,3,2,2,2,3,2,2,2,0,0,2,2,3,3,2,3,2,3,2,3,3,0,2,2,3,2,3,2,0,0,3,2,2,2],\"z\":[800000,2000000,1800000,2200000,2600000,900000,1800000,1400000,2000000,1900000,2000000,1400000,1700000,1400000,1300000,4500000,800000,800000,900000,1300000,2500000,1900000,2400000,1400000,2000000,2900000,1300000,1600000,2600000,2700000,1100000,2100000,3000000,2200000,2100000,3700000,1600000,2100000,1400000,2200000,1700000,1400000,2400000,2300000,1600000,3600000,200000,2600000,1600000,3100000,2000000,4300000,2700000,3800000,4700000,3100000,2600000,1100000,1200000,900000,1400000,1500000,2000000,1800000,2100000,1600000,3600000,1900000,4000000,1700000,2700000,3200000,1300000,2500000,2000000,3600000,1900000,2900000,3100000,4500000,2100000,5200000,2400000,2900000,2700000,1800000,1100000,2200000,4100000,1900000,1400000,4900000,2800000,900000,2400000,5100000,2200000,4000000,2200000],\"type\":\"scatter3d\"}],                        {\"template\":{\"data\":{\"bar\":[{\"error_x\":{\"color\":\"#2a3f5f\"},\"error_y\":{\"color\":\"#2a3f5f\"},\"marker\":{\"line\":{\"color\":\"#E5ECF6\",\"width\":0.5},\"pattern\":{\"fillmode\":\"overlay\",\"size\":10,\"solidity\":0.2}},\"type\":\"bar\"}],\"barpolar\":[{\"marker\":{\"line\":{\"color\":\"#E5ECF6\",\"width\":0.5},\"pattern\":{\"fillmode\":\"overlay\",\"size\":10,\"solidity\":0.2}},\"type\":\"barpolar\"}],\"carpet\":[{\"aaxis\":{\"endlinecolor\":\"#2a3f5f\",\"gridcolor\":\"white\",\"linecolor\":\"white\",\"minorgridcolor\":\"white\",\"startlinecolor\":\"#2a3f5f\"},\"baxis\":{\"endlinecolor\":\"#2a3f5f\",\"gridcolor\":\"white\",\"linecolor\":\"white\",\"minorgridcolor\":\"white\",\"startlinecolor\":\"#2a3f5f\"},\"type\":\"carpet\"}],\"choropleth\":[{\"colorbar\":{\"outlinewidth\":0,\"ticks\":\"\"},\"type\":\"choropleth\"}],\"contour\":[{\"colorbar\":{\"outlinewidth\":0,\"ticks\":\"\"},\"colorscale\":[[0.0,\"#0d0887\"],[0.1111111111111111,\"#46039f\"],[0.2222222222222222,\"#7201a8\"],[0.3333333333333333,\"#9c179e\"],[0.4444444444444444,\"#bd3786\"],[0.5555555555555556,\"#d8576b\"],[0.6666666666666666,\"#ed7953\"],[0.7777777777777778,\"#fb9f3a\"],[0.8888888888888888,\"#fdca26\"],[1.0,\"#f0f921\"]],\"type\":\"contour\"}],\"contourcarpet\":[{\"colorbar\":{\"outlinewidth\":0,\"ticks\":\"\"},\"type\":\"contourcarpet\"}],\"heatmap\":[{\"colorbar\":{\"outlinewidth\":0,\"ticks\":\"\"},\"colorscale\":[[0.0,\"#0d0887\"],[0.1111111111111111,\"#46039f\"],[0.2222222222222222,\"#7201a8\"],[0.3333333333333333,\"#9c179e\"],[0.4444444444444444,\"#bd3786\"],[0.5555555555555556,\"#d8576b\"],[0.6666666666666666,\"#ed7953\"],[0.7777777777777778,\"#fb9f3a\"],[0.8888888888888888,\"#fdca26\"],[1.0,\"#f0f921\"]],\"type\":\"heatmap\"}],\"heatmapgl\":[{\"colorbar\":{\"outlinewidth\":0,\"ticks\":\"\"},\"colorscale\":[[0.0,\"#0d0887\"],[0.1111111111111111,\"#46039f\"],[0.2222222222222222,\"#7201a8\"],[0.3333333333333333,\"#9c179e\"],[0.4444444444444444,\"#bd3786\"],[0.5555555555555556,\"#d8576b\"],[0.6666666666666666,\"#ed7953\"],[0.7777777777777778,\"#fb9f3a\"],[0.8888888888888888,\"#fdca26\"],[1.0,\"#f0f921\"]],\"type\":\"heatmapgl\"}],\"histogram\":[{\"marker\":{\"pattern\":{\"fillmode\":\"overlay\",\"size\":10,\"solidity\":0.2}},\"type\":\"histogram\"}],\"histogram2d\":[{\"colorbar\":{\"outlinewidth\":0,\"ticks\":\"\"},\"colorscale\":[[0.0,\"#0d0887\"],[0.1111111111111111,\"#46039f\"],[0.2222222222222222,\"#7201a8\"],[0.3333333333333333,\"#9c179e\"],[0.4444444444444444,\"#bd3786\"],[0.5555555555555556,\"#d8576b\"],[0.6666666666666666,\"#ed7953\"],[0.7777777777777778,\"#fb9f3a\"],[0.8888888888888888,\"#fdca26\"],[1.0,\"#f0f921\"]],\"type\":\"histogram2d\"}],\"histogram2dcontour\":[{\"colorbar\":{\"outlinewidth\":0,\"ticks\":\"\"},\"colorscale\":[[0.0,\"#0d0887\"],[0.1111111111111111,\"#46039f\"],[0.2222222222222222,\"#7201a8\"],[0.3333333333333333,\"#9c179e\"],[0.4444444444444444,\"#bd3786\"],[0.5555555555555556,\"#d8576b\"],[0.6666666666666666,\"#ed7953\"],[0.7777777777777778,\"#fb9f3a\"],[0.8888888888888888,\"#fdca26\"],[1.0,\"#f0f921\"]],\"type\":\"histogram2dcontour\"}],\"mesh3d\":[{\"colorbar\":{\"outlinewidth\":0,\"ticks\":\"\"},\"type\":\"mesh3d\"}],\"parcoords\":[{\"line\":{\"colorbar\":{\"outlinewidth\":0,\"ticks\":\"\"}},\"type\":\"parcoords\"}],\"pie\":[{\"automargin\":true,\"type\":\"pie\"}],\"scatter\":[{\"marker\":{\"colorbar\":{\"outlinewidth\":0,\"ticks\":\"\"}},\"type\":\"scatter\"}],\"scatter3d\":[{\"line\":{\"colorbar\":{\"outlinewidth\":0,\"ticks\":\"\"}},\"marker\":{\"colorbar\":{\"outlinewidth\":0,\"ticks\":\"\"}},\"type\":\"scatter3d\"}],\"scattercarpet\":[{\"marker\":{\"colorbar\":{\"outlinewidth\":0,\"ticks\":\"\"}},\"type\":\"scattercarpet\"}],\"scattergeo\":[{\"marker\":{\"colorbar\":{\"outlinewidth\":0,\"ticks\":\"\"}},\"type\":\"scattergeo\"}],\"scattergl\":[{\"marker\":{\"colorbar\":{\"outlinewidth\":0,\"ticks\":\"\"}},\"type\":\"scattergl\"}],\"scattermapbox\":[{\"marker\":{\"colorbar\":{\"outlinewidth\":0,\"ticks\":\"\"}},\"type\":\"scattermapbox\"}],\"scatterpolar\":[{\"marker\":{\"colorbar\":{\"outlinewidth\":0,\"ticks\":\"\"}},\"type\":\"scatterpolar\"}],\"scatterpolargl\":[{\"marker\":{\"colorbar\":{\"outlinewidth\":0,\"ticks\":\"\"}},\"type\":\"scatterpolargl\"}],\"scatterternary\":[{\"marker\":{\"colorbar\":{\"outlinewidth\":0,\"ticks\":\"\"}},\"type\":\"scatterternary\"}],\"surface\":[{\"colorbar\":{\"outlinewidth\":0,\"ticks\":\"\"},\"colorscale\":[[0.0,\"#0d0887\"],[0.1111111111111111,\"#46039f\"],[0.2222222222222222,\"#7201a8\"],[0.3333333333333333,\"#9c179e\"],[0.4444444444444444,\"#bd3786\"],[0.5555555555555556,\"#d8576b\"],[0.6666666666666666,\"#ed7953\"],[0.7777777777777778,\"#fb9f3a\"],[0.8888888888888888,\"#fdca26\"],[1.0,\"#f0f921\"]],\"type\":\"surface\"}],\"table\":[{\"cells\":{\"fill\":{\"color\":\"#EBF0F8\"},\"line\":{\"color\":\"white\"}},\"header\":{\"fill\":{\"color\":\"#C8D4E3\"},\"line\":{\"color\":\"white\"}},\"type\":\"table\"}]},\"layout\":{\"annotationdefaults\":{\"arrowcolor\":\"#2a3f5f\",\"arrowhead\":0,\"arrowwidth\":1},\"autotypenumbers\":\"strict\",\"coloraxis\":{\"colorbar\":{\"outlinewidth\":0,\"ticks\":\"\"}},\"colorscale\":{\"diverging\":[[0,\"#8e0152\"],[0.1,\"#c51b7d\"],[0.2,\"#de77ae\"],[0.3,\"#f1b6da\"],[0.4,\"#fde0ef\"],[0.5,\"#f7f7f7\"],[0.6,\"#e6f5d0\"],[0.7,\"#b8e186\"],[0.8,\"#7fbc41\"],[0.9,\"#4d9221\"],[1,\"#276419\"]],\"sequential\":[[0.0,\"#0d0887\"],[0.1111111111111111,\"#46039f\"],[0.2222222222222222,\"#7201a8\"],[0.3333333333333333,\"#9c179e\"],[0.4444444444444444,\"#bd3786\"],[0.5555555555555556,\"#d8576b\"],[0.6666666666666666,\"#ed7953\"],[0.7777777777777778,\"#fb9f3a\"],[0.8888888888888888,\"#fdca26\"],[1.0,\"#f0f921\"]],\"sequentialminus\":[[0.0,\"#0d0887\"],[0.1111111111111111,\"#46039f\"],[0.2222222222222222,\"#7201a8\"],[0.3333333333333333,\"#9c179e\"],[0.4444444444444444,\"#bd3786\"],[0.5555555555555556,\"#d8576b\"],[0.6666666666666666,\"#ed7953\"],[0.7777777777777778,\"#fb9f3a\"],[0.8888888888888888,\"#fdca26\"],[1.0,\"#f0f921\"]]},\"colorway\":[\"#636efa\",\"#EF553B\",\"#00cc96\",\"#ab63fa\",\"#FFA15A\",\"#19d3f3\",\"#FF6692\",\"#B6E880\",\"#FF97FF\",\"#FECB52\"],\"font\":{\"color\":\"#2a3f5f\"},\"geo\":{\"bgcolor\":\"white\",\"lakecolor\":\"white\",\"landcolor\":\"#E5ECF6\",\"showlakes\":true,\"showland\":true,\"subunitcolor\":\"white\"},\"hoverlabel\":{\"align\":\"left\"},\"hovermode\":\"closest\",\"mapbox\":{\"style\":\"light\"},\"paper_bgcolor\":\"white\",\"plot_bgcolor\":\"#E5ECF6\",\"polar\":{\"angularaxis\":{\"gridcolor\":\"white\",\"linecolor\":\"white\",\"ticks\":\"\"},\"bgcolor\":\"#E5ECF6\",\"radialaxis\":{\"gridcolor\":\"white\",\"linecolor\":\"white\",\"ticks\":\"\"}},\"scene\":{\"xaxis\":{\"backgroundcolor\":\"#E5ECF6\",\"gridcolor\":\"white\",\"gridwidth\":2,\"linecolor\":\"white\",\"showbackground\":true,\"ticks\":\"\",\"zerolinecolor\":\"white\"},\"yaxis\":{\"backgroundcolor\":\"#E5ECF6\",\"gridcolor\":\"white\",\"gridwidth\":2,\"linecolor\":\"white\",\"showbackground\":true,\"ticks\":\"\",\"zerolinecolor\":\"white\"},\"zaxis\":{\"backgroundcolor\":\"#E5ECF6\",\"gridcolor\":\"white\",\"gridwidth\":2,\"linecolor\":\"white\",\"showbackground\":true,\"ticks\":\"\",\"zerolinecolor\":\"white\"}},\"shapedefaults\":{\"line\":{\"color\":\"#2a3f5f\"}},\"ternary\":{\"aaxis\":{\"gridcolor\":\"white\",\"linecolor\":\"white\",\"ticks\":\"\"},\"baxis\":{\"gridcolor\":\"white\",\"linecolor\":\"white\",\"ticks\":\"\"},\"bgcolor\":\"#E5ECF6\",\"caxis\":{\"gridcolor\":\"white\",\"linecolor\":\"white\",\"ticks\":\"\"}},\"title\":{\"x\":0.05},\"xaxis\":{\"automargin\":true,\"gridcolor\":\"white\",\"linecolor\":\"white\",\"ticks\":\"\",\"title\":{\"standoff\":15},\"zerolinecolor\":\"white\",\"zerolinewidth\":2},\"yaxis\":{\"automargin\":true,\"gridcolor\":\"white\",\"linecolor\":\"white\",\"ticks\":\"\",\"title\":{\"standoff\":15},\"zerolinecolor\":\"white\",\"zerolinewidth\":2}}},\"scene\":{\"domain\":{\"x\":[0.0,1.0],\"y\":[0.0,1.0]},\"xaxis\":{\"title\":{\"text\":\"Age\"}},\"yaxis\":{\"title\":{\"text\":\"No of Dependents\"}},\"zaxis\":{\"title\":{\"text\":\"Total Salary\"}}},\"coloraxis\":{\"colorbar\":{\"title\":{\"text\":\"cluster\"}},\"colorscale\":[[0.0,\"#0d0887\"],[0.1111111111111111,\"#46039f\"],[0.2222222222222222,\"#7201a8\"],[0.3333333333333333,\"#9c179e\"],[0.4444444444444444,\"#bd3786\"],[0.5555555555555556,\"#d8576b\"],[0.6666666666666666,\"#ed7953\"],[0.7777777777777778,\"#fb9f3a\"],[0.8888888888888888,\"#fdca26\"],[1.0,\"#f0f921\"]]},\"legend\":{\"tracegroupgap\":0},\"margin\":{\"t\":0,\"l\":0,\"r\":0,\"b\":0}},                        {\"responsive\": true}                    ).then(function(){\n",
              "                            \n",
              "var gd = document.getElementById('ee9f4888-c60f-41cb-a49e-b2d9f2475383');\n",
              "var x = new MutationObserver(function (mutations, observer) {{\n",
              "        var display = window.getComputedStyle(gd).display;\n",
              "        if (!display || display === 'none') {{\n",
              "            console.log([gd, 'removed!']);\n",
              "            Plotly.purge(gd);\n",
              "            observer.disconnect();\n",
              "        }}\n",
              "}});\n",
              "\n",
              "// Listen for the removal of the full notebook cells\n",
              "var notebookContainer = gd.closest('#notebook-container');\n",
              "if (notebookContainer) {{\n",
              "    x.observe(notebookContainer, {childList: true});\n",
              "}}\n",
              "\n",
              "// Listen for the clearing of the current output cell\n",
              "var outputEl = gd.closest('.output');\n",
              "if (outputEl) {{\n",
              "    x.observe(outputEl, {childList: true});\n",
              "}}\n",
              "\n",
              "                        })                };                            </script>        </div>\n",
              "</body>\n",
              "</html>"
            ]
          },
          "metadata": {}
        }
      ]
    },
    {
      "cell_type": "code",
      "source": [
        "sns.countplot(data=bb2,x='cluster')"
      ],
      "metadata": {
        "colab": {
          "base_uri": "https://localhost:8080/",
          "height": 296
        },
        "id": "mhZFJwqQG5po",
        "outputId": "fdd8485b-9057-4891-ca96-0258829b27cc"
      },
      "execution_count": null,
      "outputs": [
        {
          "output_type": "execute_result",
          "data": {
            "text/plain": [
              "<AxesSubplot:xlabel='cluster', ylabel='count'>"
            ]
          },
          "metadata": {},
          "execution_count": 13
        },
        {
          "output_type": "display_data",
          "data": {
            "text/plain": [
              "<Figure size 432x288 with 1 Axes>"
            ],
            "image/png": "[encoded data removed]"
          },
          "metadata": {
            "needs_background": "light"
          }
        }
      ]
    },
    {
      "cell_type": "code",
      "source": [
        "fig,(ax3,ax4,ax50)=plt.subplots(ncols=3,figsize=(18,8))\n",
        "sns.boxplot(data=bb2,x='cluster',y='Price',ax=ax3)\n",
        "sns.boxplot(data=bb2,x='cluster',y='Age',ax=ax4)\n",
        "sns.boxplot(data=bb,x='cluster',y='Total Salary',hue='Wife Working',ax=ax50)"
      ],
      "metadata": {
        "id": "bld3ZbHYRlZ6",
        "colab": {
          "base_uri": "https://localhost:8080/",
          "height": 525
        },
        "outputId": "380a3c11-8c5f-4c54-db5a-85930d500647"
      },
      "execution_count": null,
      "outputs": [
        {
          "output_type": "execute_result",
          "data": {
            "text/plain": [
              "<AxesSubplot:xlabel='cluster', ylabel='Total Salary'>"
            ]
          },
          "metadata": {},
          "execution_count": 63
        },
        {
          "output_type": "display_data",
          "data": {
            "text/plain": [
              "<Figure size 1296x576 with 3 Axes>"
            ],
            "image/png": "[encoded data removed]"
          },
          "metadata": {
            "needs_background": "light"
          }
        }
      ]
    },
    {
      "cell_type": "code",
      "source": [
        "fig,(ax5,ax6)=plt.subplots(ncols=2,figsize=(18,6))\n",
        "print(bb[bb2.cluster==0].Make.value_counts())\n",
        "sns.countplot(data=bb[bb2.cluster==0],x='Make',ax=ax5)\n",
        "sns.countplot(data=bb[bb2.cluster==0],x='No of Dependents',ax=ax6)"
      ],
      "metadata": {
        "colab": {
          "base_uri": "https://localhost:8080/",
          "height": 562
        },
        "id": "TsViSe71J2-D",
        "outputId": "7520a002-9d47-49f9-da14-0e1387b7e703"
      },
      "execution_count": null,
      "outputs": [
        {
          "output_type": "stream",
          "name": "stdout",
          "text": [
            "SUV       12\n",
            "Ciaz       9\n",
            "Duster     7\n",
            "City       6\n",
            "Creata     4\n",
            "Baleno     4\n",
            "Verna      3\n",
            "i20        2\n",
            "Name: Make, dtype: int64\n"
          ]
        },
        {
          "output_type": "execute_result",
          "data": {
            "text/plain": [
              "<AxesSubplot:xlabel='No of Dependents', ylabel='count'>"
            ]
          },
          "metadata": {},
          "execution_count": 50
        },
        {
          "output_type": "display_data",
          "data": {
            "text/plain": [
              "<Figure size 1296x432 with 2 Axes>"
            ],
            "image/png": "[encoded data removed]"
          },
          "metadata": {
            "needs_background": "light"
          }
        }
      ]
    },
    {
      "cell_type": "markdown",
      "source": [
        "As we can see there's a group of majority people with age 34-42(mean 33) involved in buying cars of price rannge 11-15Lac(mean 12Lac)\n",
        "\n",
        "These group is mostly buying SUV,ciaz and Duster for the number of dependents generally 2,3."
      ],
      "metadata": {
        "id": "EnZfvrx8G6XT"
      }
    },
    {
      "cell_type": "code",
      "source": [
        "fig,(ax7,ax8)=plt.subplots(ncols=2,figsize=(18,6))\n",
        "print(bb[bb2.cluster==1].Make.value_counts())\n",
        "sns.countplot(data=bb[bb2.cluster==1],x='Make',ax=ax7)\n",
        "sns.countplot(data=bb[bb2.cluster==1],x='No of Dependents',ax=ax8)"
      ],
      "metadata": {
        "colab": {
          "base_uri": "https://localhost:8080/",
          "height": 475
        },
        "id": "pmY0NbjUKx12",
        "outputId": "28e460ef-5e54-459e-93e1-d23729385166"
      },
      "execution_count": null,
      "outputs": [
        {
          "output_type": "stream",
          "name": "stdout",
          "text": [
            "Creata     9\n",
            "SUV        6\n",
            "Luxuray    2\n",
            "Name: Make, dtype: int64\n"
          ]
        },
        {
          "output_type": "execute_result",
          "data": {
            "text/plain": [
              "<AxesSubplot:xlabel='No of Dependents', ylabel='count'>"
            ]
          },
          "metadata": {},
          "execution_count": 52
        },
        {
          "output_type": "display_data",
          "data": {
            "text/plain": [
              "<Figure size 1296x432 with 2 Axes>"
            ],
            "image/png": "[encoded data removed]"
          },
          "metadata": {
            "needs_background": "light"
          }
        }
      ]
    },
    {
      "cell_type": "code",
      "source": [
        "bb[bb2.cluster==1].head()"
      ],
      "metadata": {
        "colab": {
          "base_uri": "https://localhost:8080/",
          "height": 206
        },
        "id": "HpP6etT0b0kv",
        "outputId": "a752f985-7999-4250-f988-2d00eb0598ff"
      },
      "execution_count": null,
      "outputs": [
        {
          "output_type": "execute_result",
          "data": {
            "text/plain": [
              "    Age Profession Marrital Status      Education  No of Dependents  \\\n",
              "15   49   Salaried         Married  Post Graduate                 4   \n",
              "35   42   Salaried         Married  Post Graduate                 3   \n",
              "45   34   Salaried         Married       Graduate                 3   \n",
              "51   49   Salaried         Married  Post Graduate                 3   \n",
              "53   44   Business         Married  Post Graduate                 3   \n",
              "\n",
              "   Personal loan House Loan Wife Working   Salary  Wife Salary  Total Salary  \\\n",
              "15            No         No          Yes  2500000      2000000       4500000   \n",
              "35            No         No          Yes  2400000      1300000       3700000   \n",
              "45            No        Yes          Yes  2200000      1400000       3600000   \n",
              "51            No         No          Yes  2500000      1800000       4300000   \n",
              "53            No         No          Yes  2000000      1800000       3800000   \n",
              "\n",
              "       Make    Price  cluster  \n",
              "15  Luxuray  3000000        1  \n",
              "35      SUV  1600000        1  \n",
              "45   Creata  1500000        1  \n",
              "51      SUV  1600000        1  \n",
              "53   Creata  1500000        1  "
            ],
            "text/html": [
              "\n",
              "  <div id=\"df-753d6d8b-e02e-40d1-a22b-cd4a60b2b841\">\n",
              "    <div class=\"colab-df-container\">\n",
              "      <div>\n",
              "<style scoped>\n",
              "    .dataframe tbody tr th:only-of-type {\n",
              "        vertical-align: middle;\n",
              "    }\n",
              "\n",
              "    .dataframe tbody tr th {\n",
              "        vertical-align: top;\n",
              "    }\n",
              "\n",
              "    .dataframe thead th {\n",
              "        text-align: right;\n",
              "    }\n",
              "</style>\n",
              "<table border=\"1\" class=\"dataframe\">\n",
              "  <thead>\n",
              "    <tr style=\"text-align: right;\">\n",
              "      <th></th>\n",
              "      <th>Age</th>\n",
              "      <th>Profession</th>\n",
              "      <th>Marrital Status</th>\n",
              "      <th>Education</th>\n",
              "      <th>No of Dependents</th>\n",
              "      <th>Personal loan</th>\n",
              "      <th>House Loan</th>\n",
              "      <th>Wife Working</th>\n",
              "      <th>Salary</th>\n",
              "      <th>Wife Salary</th>\n",
              "      <th>Total Salary</th>\n",
              "      <th>Make</th>\n",
              "      <th>Price</th>\n",
              "      <th>cluster</th>\n",
              "    </tr>\n",
              "  </thead>\n",
              "  <tbody>\n",
              "    <tr>\n",
              "      <th>15</th>\n",
              "      <td>49</td>\n",
              "      <td>Salaried</td>\n",
              "      <td>Married</td>\n",
              "      <td>Post Graduate</td>\n",
              "      <td>4</td>\n",
              "      <td>No</td>\n",
              "      <td>No</td>\n",
              "      <td>Yes</td>\n",
              "      <td>2500000</td>\n",
              "      <td>2000000</td>\n",
              "      <td>4500000</td>\n",
              "      <td>Luxuray</td>\n",
              "      <td>3000000</td>\n",
              "      <td>1</td>\n",
              "    </tr>\n",
              "    <tr>\n",
              "      <th>35</th>\n",
              "      <td>42</td>\n",
              "      <td>Salaried</td>\n",
              "      <td>Married</td>\n",
              "      <td>Post Graduate</td>\n",
              "      <td>3</td>\n",
              "      <td>No</td>\n",
              "      <td>No</td>\n",
              "      <td>Yes</td>\n",
              "      <td>2400000</td>\n",
              "      <td>1300000</td>\n",
              "      <td>3700000</td>\n",
              "      <td>SUV</td>\n",
              "      <td>1600000</td>\n",
              "      <td>1</td>\n",
              "    </tr>\n",
              "    <tr>\n",
              "      <th>45</th>\n",
              "      <td>34</td>\n",
              "      <td>Salaried</td>\n",
              "      <td>Married</td>\n",
              "      <td>Graduate</td>\n",
              "      <td>3</td>\n",
              "      <td>No</td>\n",
              "      <td>Yes</td>\n",
              "      <td>Yes</td>\n",
              "      <td>2200000</td>\n",
              "      <td>1400000</td>\n",
              "      <td>3600000</td>\n",
              "      <td>Creata</td>\n",
              "      <td>1500000</td>\n",
              "      <td>1</td>\n",
              "    </tr>\n",
              "    <tr>\n",
              "      <th>51</th>\n",
              "      <td>49</td>\n",
              "      <td>Salaried</td>\n",
              "      <td>Married</td>\n",
              "      <td>Post Graduate</td>\n",
              "      <td>3</td>\n",
              "      <td>No</td>\n",
              "      <td>No</td>\n",
              "      <td>Yes</td>\n",
              "      <td>2500000</td>\n",
              "      <td>1800000</td>\n",
              "      <td>4300000</td>\n",
              "      <td>SUV</td>\n",
              "      <td>1600000</td>\n",
              "      <td>1</td>\n",
              "    </tr>\n",
              "    <tr>\n",
              "      <th>53</th>\n",
              "      <td>44</td>\n",
              "      <td>Business</td>\n",
              "      <td>Married</td>\n",
              "      <td>Post Graduate</td>\n",
              "      <td>3</td>\n",
              "      <td>No</td>\n",
              "      <td>No</td>\n",
              "      <td>Yes</td>\n",
              "      <td>2000000</td>\n",
              "      <td>1800000</td>\n",
              "      <td>3800000</td>\n",
              "      <td>Creata</td>\n",
              "      <td>1500000</td>\n",
              "      <td>1</td>\n",
              "    </tr>\n",
              "  </tbody>\n",
              "</table>\n",
              "</div>\n",
              "      <button class=\"colab-df-convert\" onclick=\"convertToInteractive('df-753d6d8b-e02e-40d1-a22b-cd4a60b2b841')\"\n",
              "              title=\"Convert this dataframe to an interactive table.\"\n",
              "              style=\"display:none;\">\n",
              "        \n",
              "  <svg xmlns=\"http://www.w3.org/2000/svg\" height=\"24px\"viewBox=\"0 0 24 24\"\n",
              "       width=\"24px\">\n",
              "    <path d=\"M0 0h24v24H0V0z\" fill=\"none\"/>\n",
              "    <path d=\"M18.56 5.44l.94 2.06.94-2.06 2.06-.94-2.06-.94-.94-2.06-.94 2.06-2.06.94zm-11 1L8.5 8.5l.94-2.06 2.06-.94-2.06-.94L8.5 2.5l-.94 2.06-2.06.94zm10 10l.94 2.06.94-2.06 2.06-.94-2.06-.94-.94-2.06-.94 2.06-2.06.94z\"/><path d=\"M17.41 7.96l-1.37-1.37c-.4-.4-.92-.59-1.43-.59-.52 0-1.04.2-1.43.59L10.3 9.45l-7.72 7.72c-.78.78-.78 2.05 0 2.83L4 21.41c.39.39.9.59 1.41.59.51 0 1.02-.2 1.41-.59l7.78-7.78 2.81-2.81c.8-.78.8-2.07 0-2.86zM5.41 20L4 18.59l7.72-7.72 1.47 1.35L5.41 20z\"/>\n",
              "  </svg>\n",
              "      </button>\n",
              "      \n",
              "  <style>\n",
              "    .colab-df-container {\n",
              "      display:flex;\n",
              "      flex-wrap:wrap;\n",
              "      gap: 12px;\n",
              "    }\n",
              "\n",
              "    .colab-df-convert {\n",
              "      background-color: #E8F0FE;\n",
              "      border: none;\n",
              "      border-radius: 50%;\n",
              "      cursor: pointer;\n",
              "      display: none;\n",
              "      fill: #1967D2;\n",
              "      height: 32px;\n",
              "      padding: 0 0 0 0;\n",
              "      width: 32px;\n",
              "    }\n",
              "\n",
              "    .colab-df-convert:hover {\n",
              "      background-color: #E2EBFA;\n",
              "      box-shadow: 0px 1px 2px rgba(60, 64, 67, 0.3), 0px 1px 3px 1px rgba(60, 64, 67, 0.15);\n",
              "      fill: #174EA6;\n",
              "    }\n",
              "\n",
              "    [theme=dark] .colab-df-convert {\n",
              "      background-color: #3B4455;\n",
              "      fill: #D2E3FC;\n",
              "    }\n",
              "\n",
              "    [theme=dark] .colab-df-convert:hover {\n",
              "      background-color: #434B5C;\n",
              "      box-shadow: 0px 1px 3px 1px rgba(0, 0, 0, 0.15);\n",
              "      filter: drop-shadow(0px 1px 2px rgba(0, 0, 0, 0.3));\n",
              "      fill: #FFFFFF;\n",
              "    }\n",
              "  </style>\n",
              "\n",
              "      <script>\n",
              "        const buttonEl =\n",
              "          document.querySelector('#df-753d6d8b-e02e-40d1-a22b-cd4a60b2b841 button.colab-df-convert');\n",
              "        buttonEl.style.display =\n",
              "          google.colab.kernel.accessAllowed ? 'block' : 'none';\n",
              "\n",
              "        async function convertToInteractive(key) {\n",
              "          const element = document.querySelector('#df-753d6d8b-e02e-40d1-a22b-cd4a60b2b841');\n",
              "          const dataTable =\n",
              "            await google.colab.kernel.invokeFunction('convertToInteractive',\n",
              "                                                     [key], {});\n",
              "          if (!dataTable) return;\n",
              "\n",
              "          const docLinkHtml = 'Like what you see? Visit the ' +\n",
              "            '<a target=\"_blank\" href=https://colab.research.google.com/notebooks/data_table.ipynb>data table notebook</a>'\n",
              "            + ' to learn more about interactive tables.';\n",
              "          element.innerHTML = '';\n",
              "          dataTable['output_type'] = 'display_data';\n",
              "          await google.colab.output.renderOutput(dataTable, element);\n",
              "          const docLink = document.createElement('div');\n",
              "          docLink.innerHTML = docLinkHtml;\n",
              "          element.appendChild(docLink);\n",
              "        }\n",
              "      </script>\n",
              "    </div>\n",
              "  </div>\n",
              "  "
            ]
          },
          "metadata": {},
          "execution_count": 64
        }
      ]
    },
    {
      "cell_type": "markdown",
      "source": [
        "As we can see there's a group of less people with age 38-46(mean 42) involved in buying cars of price rannge 15-18Lac(mean 12Lac) with outliers of 30Lac.\n",
        "\n",
        "These group is mostly buying creata,SUV and Luxuray for the number of dependents generally 2,3.\n",
        "\n",
        "Most of these people have working wife hence high total salary."
      ],
      "metadata": {
        "id": "Y5EOIA0CYEmr"
      }
    },
    {
      "cell_type": "markdown",
      "source": [],
      "metadata": {
        "id": "OPk583FJX-U4"
      }
    },
    {
      "cell_type": "code",
      "source": [
        "fig,(ax9,ax10)=plt.subplots(ncols=2,figsize=(18,6))\n",
        "print(bb[bb2.cluster==2].Make.value_counts())\n",
        "sns.countplot(data=bb[bb2.cluster==2],x='Make',ax=ax9)\n",
        "sns.countplot(data=bb[bb2.cluster==2],x='No of Dependents',ax=ax10)"
      ],
      "metadata": {
        "colab": {
          "base_uri": "https://localhost:8080/",
          "height": 544
        },
        "id": "-dFL2S1vT9e4",
        "outputId": "c92b9511-b34c-4bca-b940-961cdca207ae"
      },
      "execution_count": null,
      "outputs": [
        {
          "output_type": "stream",
          "name": "stdout",
          "text": [
            "Baleno    15\n",
            "i20       10\n",
            "City       4\n",
            "Ciaz       3\n",
            "Verna      1\n",
            "SUV        1\n",
            "Creata     1\n",
            "Name: Make, dtype: int64\n"
          ]
        },
        {
          "output_type": "execute_result",
          "data": {
            "text/plain": [
              "<AxesSubplot:xlabel='No of Dependents', ylabel='count'>"
            ]
          },
          "metadata": {},
          "execution_count": 53
        },
        {
          "output_type": "display_data",
          "data": {
            "text/plain": [
              "<Figure size 1296x432 with 2 Axes>"
            ],
            "image/png": "[encoded data removed]"
          },
          "metadata": {
            "needs_background": "light"
          }
        }
      ]
    },
    {
      "cell_type": "markdown",
      "source": [
        "This is a group of people with majorly no dependents and total salary of \n",
        "0.8-2Lacs.\n",
        "\n",
        "these people are buying i20 and Baleno majorly.\n",
        " this are supposed to be middle class population wuith some of the number of dependents. "
      ],
      "metadata": {
        "id": "SX2pDkcnfF9i"
      }
    },
    {
      "cell_type": "code",
      "source": [
        "fig,(ax3,ax4)=plt.subplots(ncols=2,figsize=(10,6))\n",
        "sns.boxplot(data=bb2,x='cluster',y='Price',ax=ax3)\n",
        "sns.boxplot(data=bb2,x='cluster',y='Total Salary',ax=ax4)"
      ],
      "metadata": {
        "colab": {
          "base_uri": "https://localhost:8080/",
          "height": 416
        },
        "id": "USPEmN1h-pFj",
        "outputId": "86422420-d6d6-4078-fe82-326f68f8b791"
      },
      "execution_count": null,
      "outputs": [
        {
          "output_type": "execute_result",
          "data": {
            "text/plain": [
              "<AxesSubplot:xlabel='cluster', ylabel='Total Salary'>"
            ]
          },
          "metadata": {},
          "execution_count": 55
        },
        {
          "output_type": "display_data",
          "data": {
            "text/plain": [
              "<Figure size 720x432 with 2 Axes>"
            ],
            "image/png": "[encoded data removed]"
          },
          "metadata": {
            "needs_background": "light"
          }
        }
      ]
    },
    {
      "cell_type": "markdown",
      "source": [
        "Correlating this data of cars with EV cars to visualise which EV will be owned by which group of people to create a precise market mix.**bold text**\n",
        "\n",
        "---\n",
        "\n",
        "\n",
        "\n",
        "---\n",
        "\n",
        "\n"
      ],
      "metadata": {
        "id": "EJliLZ1OiHiN"
      }
    },
    {
      "cell_type": "markdown",
      "source": [
        "**Next task is to correlate data of cars with EV for the specification and prices of them.**\n",
        "\n",
        "\n",
        "---\n",
        "\n",
        "\n",
        "\n",
        "---\n"
      ],
      "metadata": {
        "id": "1Vg54rgkiHl5"
      }
    },
    {
      "cell_type": "markdown",
      "source": [],
      "metadata": {
        "id": "M5-YRsKwiHpf"
      }
    },
    {
      "cell_type": "markdown",
      "source": [],
      "metadata": {
        "id": "ZPzhq8eRiHsK"
      }
    },
    {
      "cell_type": "markdown",
      "source": [],
      "metadata": {
        "id": "2Bh2jpfOiHui"
      }
    },
    {
      "cell_type": "markdown",
      "source": [],
      "metadata": {
        "id": "9W4pFt3ViHxH"
      }
    },
    {
      "cell_type": "markdown",
      "source": [],
      "metadata": {
        "id": "h3BDGOweiHzd"
      }
    },
    {
      "cell_type": "code",
      "source": [
        "ev= pd.read_csv('/content/drive/MyDrive/DS-ML/EV_market segmentation/EVIndia.csv')"
      ],
      "metadata": {
        "id": "v8_YG9na_WNu"
      },
      "execution_count": 6,
      "outputs": []
    },
    {
      "cell_type": "code",
      "source": [
        "ev.head()"
      ],
      "metadata": {
        "colab": {
          "base_uri": "https://localhost:8080/",
          "height": 206
        },
        "id": "IM6CtBYoE0D4",
        "outputId": "dbcd3767-6a84-4db2-bb84-6e1e7b2e7d1d"
      },
      "execution_count": 7,
      "outputs": [
        {
          "output_type": "execute_result",
          "data": {
            "text/plain": [
              "                     Car             Style               Range Transmission  \\\n",
              "0          Tata Nexon EV       Compact SUV  312 Km/Full Charge    Automatic   \n",
              "1          Tata Tigor EV  Subcompact Sedan  306 Km/Full Charge    Automatic   \n",
              "2      Tata Nexon EV Max       Compact SUV  437 Km/Full Charge    Automatic   \n",
              "3               MG ZS EV       Compact SUV  419 Km/Full Charge    Automatic   \n",
              "4  Hyundai Kona Electric       Compact SUV  452 Km/Full Charge    Automatic   \n",
              "\n",
              "  VehicleType         PriceRange   Capacity BootSpace           BaseModel  \\\n",
              "0    Electric   ₹ 13.99 - 17.4 L  5 Seater      350 L                 XM    \n",
              "1    Electric  ₹ 12.49 - 13.64 L  5 Seater      316 L                 XE    \n",
              "2    Electric  ₹ 17.74 - 19.24 L  5 Seater      350 L     XZ Plus 3.3 kW    \n",
              "3    Electric  ₹ 21.99 - 25.88 L  5 Seater      448 L             Excite    \n",
              "4    Electric  ₹ 23.79 - 23.98 L  5 Seater         na  Premium Dual Tone    \n",
              "\n",
              "              TopModel  \n",
              "0    Dark XZ Plus LUX   \n",
              "1   XZ Plus Dual Tone   \n",
              "2  XZ Plus Lux 7.2 kW   \n",
              "3           Exclusive   \n",
              "4                 HSE   "
            ],
            "text/html": [
              "\n",
              "  <div id=\"df-ca998223-7f98-4602-a660-6a604702fe63\">\n",
              "    <div class=\"colab-df-container\">\n",
              "      <div>\n",
              "<style scoped>\n",
              "    .dataframe tbody tr th:only-of-type {\n",
              "        vertical-align: middle;\n",
              "    }\n",
              "\n",
              "    .dataframe tbody tr th {\n",
              "        vertical-align: top;\n",
              "    }\n",
              "\n",
              "    .dataframe thead th {\n",
              "        text-align: right;\n",
              "    }\n",
              "</style>\n",
              "<table border=\"1\" class=\"dataframe\">\n",
              "  <thead>\n",
              "    <tr style=\"text-align: right;\">\n",
              "      <th></th>\n",
              "      <th>Car</th>\n",
              "      <th>Style</th>\n",
              "      <th>Range</th>\n",
              "      <th>Transmission</th>\n",
              "      <th>VehicleType</th>\n",
              "      <th>PriceRange</th>\n",
              "      <th>Capacity</th>\n",
              "      <th>BootSpace</th>\n",
              "      <th>BaseModel</th>\n",
              "      <th>TopModel</th>\n",
              "    </tr>\n",
              "  </thead>\n",
              "  <tbody>\n",
              "    <tr>\n",
              "      <th>0</th>\n",
              "      <td>Tata Nexon EV</td>\n",
              "      <td>Compact SUV</td>\n",
              "      <td>312 Km/Full Charge</td>\n",
              "      <td>Automatic</td>\n",
              "      <td>Electric</td>\n",
              "      <td>₹ 13.99 - 17.4 L</td>\n",
              "      <td>5 Seater</td>\n",
              "      <td>350 L</td>\n",
              "      <td>XM</td>\n",
              "      <td>Dark XZ Plus LUX</td>\n",
              "    </tr>\n",
              "    <tr>\n",
              "      <th>1</th>\n",
              "      <td>Tata Tigor EV</td>\n",
              "      <td>Subcompact Sedan</td>\n",
              "      <td>306 Km/Full Charge</td>\n",
              "      <td>Automatic</td>\n",
              "      <td>Electric</td>\n",
              "      <td>₹ 12.49 - 13.64 L</td>\n",
              "      <td>5 Seater</td>\n",
              "      <td>316 L</td>\n",
              "      <td>XE</td>\n",
              "      <td>XZ Plus Dual Tone</td>\n",
              "    </tr>\n",
              "    <tr>\n",
              "      <th>2</th>\n",
              "      <td>Tata Nexon EV Max</td>\n",
              "      <td>Compact SUV</td>\n",
              "      <td>437 Km/Full Charge</td>\n",
              "      <td>Automatic</td>\n",
              "      <td>Electric</td>\n",
              "      <td>₹ 17.74 - 19.24 L</td>\n",
              "      <td>5 Seater</td>\n",
              "      <td>350 L</td>\n",
              "      <td>XZ Plus 3.3 kW</td>\n",
              "      <td>XZ Plus Lux 7.2 kW</td>\n",
              "    </tr>\n",
              "    <tr>\n",
              "      <th>3</th>\n",
              "      <td>MG ZS EV</td>\n",
              "      <td>Compact SUV</td>\n",
              "      <td>419 Km/Full Charge</td>\n",
              "      <td>Automatic</td>\n",
              "      <td>Electric</td>\n",
              "      <td>₹ 21.99 - 25.88 L</td>\n",
              "      <td>5 Seater</td>\n",
              "      <td>448 L</td>\n",
              "      <td>Excite</td>\n",
              "      <td>Exclusive</td>\n",
              "    </tr>\n",
              "    <tr>\n",
              "      <th>4</th>\n",
              "      <td>Hyundai Kona Electric</td>\n",
              "      <td>Compact SUV</td>\n",
              "      <td>452 Km/Full Charge</td>\n",
              "      <td>Automatic</td>\n",
              "      <td>Electric</td>\n",
              "      <td>₹ 23.79 - 23.98 L</td>\n",
              "      <td>5 Seater</td>\n",
              "      <td>na</td>\n",
              "      <td>Premium Dual Tone</td>\n",
              "      <td>HSE</td>\n",
              "    </tr>\n",
              "  </tbody>\n",
              "</table>\n",
              "</div>\n",
              "      <button class=\"colab-df-convert\" onclick=\"convertToInteractive('df-ca998223-7f98-4602-a660-6a604702fe63')\"\n",
              "              title=\"Convert this dataframe to an interactive table.\"\n",
              "              style=\"display:none;\">\n",
              "        \n",
              "  <svg xmlns=\"http://www.w3.org/2000/svg\" height=\"24px\"viewBox=\"0 0 24 24\"\n",
              "       width=\"24px\">\n",
              "    <path d=\"M0 0h24v24H0V0z\" fill=\"none\"/>\n",
              "    <path d=\"M18.56 5.44l.94 2.06.94-2.06 2.06-.94-2.06-.94-.94-2.06-.94 2.06-2.06.94zm-11 1L8.5 8.5l.94-2.06 2.06-.94-2.06-.94L8.5 2.5l-.94 2.06-2.06.94zm10 10l.94 2.06.94-2.06 2.06-.94-2.06-.94-.94-2.06-.94 2.06-2.06.94z\"/><path d=\"M17.41 7.96l-1.37-1.37c-.4-.4-.92-.59-1.43-.59-.52 0-1.04.2-1.43.59L10.3 9.45l-7.72 7.72c-.78.78-.78 2.05 0 2.83L4 21.41c.39.39.9.59 1.41.59.51 0 1.02-.2 1.41-.59l7.78-7.78 2.81-2.81c.8-.78.8-2.07 0-2.86zM5.41 20L4 18.59l7.72-7.72 1.47 1.35L5.41 20z\"/>\n",
              "  </svg>\n",
              "      </button>\n",
              "      \n",
              "  <style>\n",
              "    .colab-df-container {\n",
              "      display:flex;\n",
              "      flex-wrap:wrap;\n",
              "      gap: 12px;\n",
              "    }\n",
              "\n",
              "    .colab-df-convert {\n",
              "      background-color: #E8F0FE;\n",
              "      border: none;\n",
              "      border-radius: 50%;\n",
              "      cursor: pointer;\n",
              "      display: none;\n",
              "      fill: #1967D2;\n",
              "      height: 32px;\n",
              "      padding: 0 0 0 0;\n",
              "      width: 32px;\n",
              "    }\n",
              "\n",
              "    .colab-df-convert:hover {\n",
              "      background-color: #E2EBFA;\n",
              "      box-shadow: 0px 1px 2px rgba(60, 64, 67, 0.3), 0px 1px 3px 1px rgba(60, 64, 67, 0.15);\n",
              "      fill: #174EA6;\n",
              "    }\n",
              "\n",
              "    [theme=dark] .colab-df-convert {\n",
              "      background-color: #3B4455;\n",
              "      fill: #D2E3FC;\n",
              "    }\n",
              "\n",
              "    [theme=dark] .colab-df-convert:hover {\n",
              "      background-color: #434B5C;\n",
              "      box-shadow: 0px 1px 3px 1px rgba(0, 0, 0, 0.15);\n",
              "      filter: drop-shadow(0px 1px 2px rgba(0, 0, 0, 0.3));\n",
              "      fill: #FFFFFF;\n",
              "    }\n",
              "  </style>\n",
              "\n",
              "      <script>\n",
              "        const buttonEl =\n",
              "          document.querySelector('#df-ca998223-7f98-4602-a660-6a604702fe63 button.colab-df-convert');\n",
              "        buttonEl.style.display =\n",
              "          google.colab.kernel.accessAllowed ? 'block' : 'none';\n",
              "\n",
              "        async function convertToInteractive(key) {\n",
              "          const element = document.querySelector('#df-ca998223-7f98-4602-a660-6a604702fe63');\n",
              "          const dataTable =\n",
              "            await google.colab.kernel.invokeFunction('convertToInteractive',\n",
              "                                                     [key], {});\n",
              "          if (!dataTable) return;\n",
              "\n",
              "          const docLinkHtml = 'Like what you see? Visit the ' +\n",
              "            '<a target=\"_blank\" href=https://colab.research.google.com/notebooks/data_table.ipynb>data table notebook</a>'\n",
              "            + ' to learn more about interactive tables.';\n",
              "          element.innerHTML = '';\n",
              "          dataTable['output_type'] = 'display_data';\n",
              "          await google.colab.output.renderOutput(dataTable, element);\n",
              "          const docLink = document.createElement('div');\n",
              "          docLink.innerHTML = docLinkHtml;\n",
              "          element.appendChild(docLink);\n",
              "        }\n",
              "      </script>\n",
              "    </div>\n",
              "  </div>\n",
              "  "
            ]
          },
          "metadata": {},
          "execution_count": 7
        }
      ]
    },
    {
      "cell_type": "code",
      "source": [
        "ev.PriceRange"
      ],
      "metadata": {
        "colab": {
          "base_uri": "https://localhost:8080/"
        },
        "id": "uKvdf0VjE0G8",
        "outputId": "ccff56c2-27fc-4ba8-8d73-3b0c69406099"
      },
      "execution_count": 17,
      "outputs": [
        {
          "output_type": "execute_result",
          "data": {
            "text/plain": [
              "0      ₹ 13.99 - 17.4 L\n",
              "1     ₹ 12.49 - 13.64 L\n",
              "2     ₹ 17.74 - 19.24 L\n",
              "3     ₹ 21.99 - 25.88 L\n",
              "4     ₹ 23.79 - 23.98 L\n",
              "5      ₹ 1.06 - 1.12 Cr\n",
              "6              ₹ 1.8 Cr\n",
              "7             ₹ 29.15 L\n",
              "8                ₹ 1 Cr\n",
              "9             ₹ 1.16 Cr\n",
              "10             ₹ 1.5 Cr\n",
              "11     ₹ 1.01 - 1.19 Cr\n",
              "Name: PriceRange, dtype: object"
            ]
          },
          "metadata": {},
          "execution_count": 17
        }
      ]
    },
    {
      "cell_type": "code",
      "source": [
        "print(bb.Make.value_counts())\n",
        "bb.Price[bb.Make.value_counts()]"
      ],
      "metadata": {
        "colab": {
          "base_uri": "https://localhost:8080/"
        },
        "id": "Bje8CM-HFR1u",
        "outputId": "9445cf51-25b4-4258-bb62-945222f42a64"
      },
      "execution_count": 14,
      "outputs": [
        {
          "output_type": "stream",
          "name": "stdout",
          "text": [
            "SUV        19\n",
            "Baleno     19\n",
            "Creata     14\n",
            "i20        12\n",
            "Ciaz       12\n",
            "City       10\n",
            "Duster      7\n",
            "Verna       4\n",
            "Luxuray     2\n",
            "Name: Make, dtype: int64\n"
          ]
        },
        {
          "output_type": "execute_result",
          "data": {
            "text/plain": [
              "19     700000\n",
              "19     700000\n",
              "14     700000\n",
              "12     110000\n",
              "12     110000\n",
              "10    1600000\n",
              "7      700000\n",
              "4     1600000\n",
              "2     1200000\n",
              "Name: Price, dtype: int64"
            ]
          },
          "metadata": {},
          "execution_count": 14
        }
      ]
    },
    {
      "cell_type": "code",
      "source": [],
      "metadata": {
        "id": "2ERGVGVpFR5D"
      },
      "execution_count": 14,
      "outputs": []
    },
    {
      "cell_type": "code",
      "source": [],
      "metadata": {
        "id": "KXWveTkzFR9F"
      },
      "execution_count": null,
      "outputs": []
    },
    {
      "cell_type": "code",
      "source": [
        "bb['House Loan'] = bb['House Loan'].map({'Yes':1,'No':0})\n",
        "bb['Personal loan'] = bb['Personal loan'].map({'Yes':1,'No':0})\n",
        "bb['Wife Working'] = bb['Wife Working'].map({'Yes':1,'No':0})\n",
        "bb['Education'] = bb['Education'].map({'Post Graduate':1,'Graduate':2})\n",
        "bb['Marrital Status'] = bb['Marrital Status'].map({'Single':0,'Married':1})\n",
        "bb['Profession']=bb['Profession'].map({'Salaried':1,'Business':2})"
      ],
      "metadata": {
        "id": "LnICiA7_KfFN"
      },
      "execution_count": null,
      "outputs": []
    },
    {
      "cell_type": "code",
      "source": [
        "bb"
      ],
      "metadata": {
        "colab": {
          "base_uri": "https://localhost:8080/",
          "height": 424
        },
        "id": "Hj2cPCB7OfuN",
        "outputId": "615687d9-68a8-4368-f331-7faf48c210f0"
      },
      "execution_count": null,
      "outputs": [
        {
          "output_type": "execute_result",
          "data": {
            "text/plain": [
              "    Age  Profession  Marrital Status  Education  No of Dependents  \\\n",
              "0    27           1                0          1                 0   \n",
              "1    35           1                1          1                 2   \n",
              "2    45           2                1          2                 4   \n",
              "3    41           2                1          1                 3   \n",
              "4    31           1                1          1                 2   \n",
              "..  ...         ...              ...        ...               ...   \n",
              "94   27           2                0          2                 0   \n",
              "95   50           1                1          1                 3   \n",
              "96   51           2                1          2                 2   \n",
              "97   51           1                1          1                 2   \n",
              "98   51           1                1          1                 2   \n",
              "\n",
              "    Personal loan  House Loan  Wife Working   Salary  Wife Salary  \\\n",
              "0               1           0           0.0   800000            0   \n",
              "1               1           1           1.0  1400000       600000   \n",
              "2               1           1           0.0  1800000            0   \n",
              "3               0           0           1.0  1600000       600000   \n",
              "4               1           0           1.0  1800000       800000   \n",
              "..            ...         ...           ...      ...          ...   \n",
              "94              0           0           0.0  2400000            0   \n",
              "95              0           0           1.0  3800000      1300000   \n",
              "96              1           1           0.0  2200000            0   \n",
              "97              0           0           1.0  2700000      1300000   \n",
              "98              1           1           0.0  2200000            0   \n",
              "\n",
              "    Total Salary    Make    Price  \n",
              "0         800000     i20   800000  \n",
              "1        2000000    Ciaz  1000000  \n",
              "2        1800000  Duster  1200000  \n",
              "3        2200000    City  1200000  \n",
              "4        2600000     SUV  1600000  \n",
              "..           ...     ...      ...  \n",
              "94       2400000     SUV  1600000  \n",
              "95       5100000     SUV  1600000  \n",
              "96       2200000    Ciaz  1100000  \n",
              "97       4000000  Creata  1500000  \n",
              "98       2200000    Ciaz  1100000  \n",
              "\n",
              "[99 rows x 13 columns]"
            ],
            "text/html": [
              "\n",
              "  <div id=\"df-d4776908-af28-4f8f-985d-04a09ac10caf\">\n",
              "    <div class=\"colab-df-container\">\n",
              "      <div>\n",
              "<style scoped>\n",
              "    .dataframe tbody tr th:only-of-type {\n",
              "        vertical-align: middle;\n",
              "    }\n",
              "\n",
              "    .dataframe tbody tr th {\n",
              "        vertical-align: top;\n",
              "    }\n",
              "\n",
              "    .dataframe thead th {\n",
              "        text-align: right;\n",
              "    }\n",
              "</style>\n",
              "<table border=\"1\" class=\"dataframe\">\n",
              "  <thead>\n",
              "    <tr style=\"text-align: right;\">\n",
              "      <th></th>\n",
              "      <th>Age</th>\n",
              "      <th>Profession</th>\n",
              "      <th>Marrital Status</th>\n",
              "      <th>Education</th>\n",
              "      <th>No of Dependents</th>\n",
              "      <th>Personal loan</th>\n",
              "      <th>House Loan</th>\n",
              "      <th>Wife Working</th>\n",
              "      <th>Salary</th>\n",
              "      <th>Wife Salary</th>\n",
              "      <th>Total Salary</th>\n",
              "      <th>Make</th>\n",
              "      <th>Price</th>\n",
              "    </tr>\n",
              "  </thead>\n",
              "  <tbody>\n",
              "    <tr>\n",
              "      <th>0</th>\n",
              "      <td>27</td>\n",
              "      <td>1</td>\n",
              "      <td>0</td>\n",
              "      <td>1</td>\n",
              "      <td>0</td>\n",
              "      <td>1</td>\n",
              "      <td>0</td>\n",
              "      <td>0.0</td>\n",
              "      <td>800000</td>\n",
              "      <td>0</td>\n",
              "      <td>800000</td>\n",
              "      <td>i20</td>\n",
              "      <td>800000</td>\n",
              "    </tr>\n",
              "    <tr>\n",
              "      <th>1</th>\n",
              "      <td>35</td>\n",
              "      <td>1</td>\n",
              "      <td>1</td>\n",
              "      <td>1</td>\n",
              "      <td>2</td>\n",
              "      <td>1</td>\n",
              "      <td>1</td>\n",
              "      <td>1.0</td>\n",
              "      <td>1400000</td>\n",
              "      <td>600000</td>\n",
              "      <td>2000000</td>\n",
              "      <td>Ciaz</td>\n",
              "      <td>1000000</td>\n",
              "    </tr>\n",
              "    <tr>\n",
              "      <th>2</th>\n",
              "      <td>45</td>\n",
              "      <td>2</td>\n",
              "      <td>1</td>\n",
              "      <td>2</td>\n",
              "      <td>4</td>\n",
              "      <td>1</td>\n",
              "      <td>1</td>\n",
              "      <td>0.0</td>\n",
              "      <td>1800000</td>\n",
              "      <td>0</td>\n",
              "      <td>1800000</td>\n",
              "      <td>Duster</td>\n",
              "      <td>1200000</td>\n",
              "    </tr>\n",
              "    <tr>\n",
              "      <th>3</th>\n",
              "      <td>41</td>\n",
              "      <td>2</td>\n",
              "      <td>1</td>\n",
              "      <td>1</td>\n",
              "      <td>3</td>\n",
              "      <td>0</td>\n",
              "      <td>0</td>\n",
              "      <td>1.0</td>\n",
              "      <td>1600000</td>\n",
              "      <td>600000</td>\n",
              "      <td>2200000</td>\n",
              "      <td>City</td>\n",
              "      <td>1200000</td>\n",
              "    </tr>\n",
              "    <tr>\n",
              "      <th>4</th>\n",
              "      <td>31</td>\n",
              "      <td>1</td>\n",
              "      <td>1</td>\n",
              "      <td>1</td>\n",
              "      <td>2</td>\n",
              "      <td>1</td>\n",
              "      <td>0</td>\n",
              "      <td>1.0</td>\n",
              "      <td>1800000</td>\n",
              "      <td>800000</td>\n",
              "      <td>2600000</td>\n",
              "      <td>SUV</td>\n",
              "      <td>1600000</td>\n",
              "    </tr>\n",
              "    <tr>\n",
              "      <th>...</th>\n",
              "      <td>...</td>\n",
              "      <td>...</td>\n",
              "      <td>...</td>\n",
              "      <td>...</td>\n",
              "      <td>...</td>\n",
              "      <td>...</td>\n",
              "      <td>...</td>\n",
              "      <td>...</td>\n",
              "      <td>...</td>\n",
              "      <td>...</td>\n",
              "      <td>...</td>\n",
              "      <td>...</td>\n",
              "      <td>...</td>\n",
              "    </tr>\n",
              "    <tr>\n",
              "      <th>94</th>\n",
              "      <td>27</td>\n",
              "      <td>2</td>\n",
              "      <td>0</td>\n",
              "      <td>2</td>\n",
              "      <td>0</td>\n",
              "      <td>0</td>\n",
              "      <td>0</td>\n",
              "      <td>0.0</td>\n",
              "      <td>2400000</td>\n",
              "      <td>0</td>\n",
              "      <td>2400000</td>\n",
              "      <td>SUV</td>\n",
              "      <td>1600000</td>\n",
              "    </tr>\n",
              "    <tr>\n",
              "      <th>95</th>\n",
              "      <td>50</td>\n",
              "      <td>1</td>\n",
              "      <td>1</td>\n",
              "      <td>1</td>\n",
              "      <td>3</td>\n",
              "      <td>0</td>\n",
              "      <td>0</td>\n",
              "      <td>1.0</td>\n",
              "      <td>3800000</td>\n",
              "      <td>1300000</td>\n",
              "      <td>5100000</td>\n",
              "      <td>SUV</td>\n",
              "      <td>1600000</td>\n",
              "    </tr>\n",
              "    <tr>\n",
              "      <th>96</th>\n",
              "      <td>51</td>\n",
              "      <td>2</td>\n",
              "      <td>1</td>\n",
              "      <td>2</td>\n",
              "      <td>2</td>\n",
              "      <td>1</td>\n",
              "      <td>1</td>\n",
              "      <td>0.0</td>\n",
              "      <td>2200000</td>\n",
              "      <td>0</td>\n",
              "      <td>2200000</td>\n",
              "      <td>Ciaz</td>\n",
              "      <td>1100000</td>\n",
              "    </tr>\n",
              "    <tr>\n",
              "      <th>97</th>\n",
              "      <td>51</td>\n",
              "      <td>1</td>\n",
              "      <td>1</td>\n",
              "      <td>1</td>\n",
              "      <td>2</td>\n",
              "      <td>0</td>\n",
              "      <td>0</td>\n",
              "      <td>1.0</td>\n",
              "      <td>2700000</td>\n",
              "      <td>1300000</td>\n",
              "      <td>4000000</td>\n",
              "      <td>Creata</td>\n",
              "      <td>1500000</td>\n",
              "    </tr>\n",
              "    <tr>\n",
              "      <th>98</th>\n",
              "      <td>51</td>\n",
              "      <td>1</td>\n",
              "      <td>1</td>\n",
              "      <td>1</td>\n",
              "      <td>2</td>\n",
              "      <td>1</td>\n",
              "      <td>1</td>\n",
              "      <td>0.0</td>\n",
              "      <td>2200000</td>\n",
              "      <td>0</td>\n",
              "      <td>2200000</td>\n",
              "      <td>Ciaz</td>\n",
              "      <td>1100000</td>\n",
              "    </tr>\n",
              "  </tbody>\n",
              "</table>\n",
              "<p>99 rows × 13 columns</p>\n",
              "</div>\n",
              "      <button class=\"colab-df-convert\" onclick=\"convertToInteractive('df-d4776908-af28-4f8f-985d-04a09ac10caf')\"\n",
              "              title=\"Convert this dataframe to an interactive table.\"\n",
              "              style=\"display:none;\">\n",
              "        \n",
              "  <svg xmlns=\"http://www.w3.org/2000/svg\" height=\"24px\"viewBox=\"0 0 24 24\"\n",
              "       width=\"24px\">\n",
              "    <path d=\"M0 0h24v24H0V0z\" fill=\"none\"/>\n",
              "    <path d=\"M18.56 5.44l.94 2.06.94-2.06 2.06-.94-2.06-.94-.94-2.06-.94 2.06-2.06.94zm-11 1L8.5 8.5l.94-2.06 2.06-.94-2.06-.94L8.5 2.5l-.94 2.06-2.06.94zm10 10l.94 2.06.94-2.06 2.06-.94-2.06-.94-.94-2.06-.94 2.06-2.06.94z\"/><path d=\"M17.41 7.96l-1.37-1.37c-.4-.4-.92-.59-1.43-.59-.52 0-1.04.2-1.43.59L10.3 9.45l-7.72 7.72c-.78.78-.78 2.05 0 2.83L4 21.41c.39.39.9.59 1.41.59.51 0 1.02-.2 1.41-.59l7.78-7.78 2.81-2.81c.8-.78.8-2.07 0-2.86zM5.41 20L4 18.59l7.72-7.72 1.47 1.35L5.41 20z\"/>\n",
              "  </svg>\n",
              "      </button>\n",
              "      \n",
              "  <style>\n",
              "    .colab-df-container {\n",
              "      display:flex;\n",
              "      flex-wrap:wrap;\n",
              "      gap: 12px;\n",
              "    }\n",
              "\n",
              "    .colab-df-convert {\n",
              "      background-color: #E8F0FE;\n",
              "      border: none;\n",
              "      border-radius: 50%;\n",
              "      cursor: pointer;\n",
              "      display: none;\n",
              "      fill: #1967D2;\n",
              "      height: 32px;\n",
              "      padding: 0 0 0 0;\n",
              "      width: 32px;\n",
              "    }\n",
              "\n",
              "    .colab-df-convert:hover {\n",
              "      background-color: #E2EBFA;\n",
              "      box-shadow: 0px 1px 2px rgba(60, 64, 67, 0.3), 0px 1px 3px 1px rgba(60, 64, 67, 0.15);\n",
              "      fill: #174EA6;\n",
              "    }\n",
              "\n",
              "    [theme=dark] .colab-df-convert {\n",
              "      background-color: #3B4455;\n",
              "      fill: #D2E3FC;\n",
              "    }\n",
              "\n",
              "    [theme=dark] .colab-df-convert:hover {\n",
              "      background-color: #434B5C;\n",
              "      box-shadow: 0px 1px 3px 1px rgba(0, 0, 0, 0.15);\n",
              "      filter: drop-shadow(0px 1px 2px rgba(0, 0, 0, 0.3));\n",
              "      fill: #FFFFFF;\n",
              "    }\n",
              "  </style>\n",
              "\n",
              "      <script>\n",
              "        const buttonEl =\n",
              "          document.querySelector('#df-d4776908-af28-4f8f-985d-04a09ac10caf button.colab-df-convert');\n",
              "        buttonEl.style.display =\n",
              "          google.colab.kernel.accessAllowed ? 'block' : 'none';\n",
              "\n",
              "        async function convertToInteractive(key) {\n",
              "          const element = document.querySelector('#df-d4776908-af28-4f8f-985d-04a09ac10caf');\n",
              "          const dataTable =\n",
              "            await google.colab.kernel.invokeFunction('convertToInteractive',\n",
              "                                                     [key], {});\n",
              "          if (!dataTable) return;\n",
              "\n",
              "          const docLinkHtml = 'Like what you see? Visit the ' +\n",
              "            '<a target=\"_blank\" href=https://colab.research.google.com/notebooks/data_table.ipynb>data table notebook</a>'\n",
              "            + ' to learn more about interactive tables.';\n",
              "          element.innerHTML = '';\n",
              "          dataTable['output_type'] = 'display_data';\n",
              "          await google.colab.output.renderOutput(dataTable, element);\n",
              "          const docLink = document.createElement('div');\n",
              "          docLink.innerHTML = docLinkHtml;\n",
              "          element.appendChild(docLink);\n",
              "        }\n",
              "      </script>\n",
              "    </div>\n",
              "  </div>\n",
              "  "
            ]
          },
          "metadata": {},
          "execution_count": 87
        }
      ]
    }
  ]
}